{
 "cells": [
  {
   "cell_type": "code",
   "execution_count": 157,
   "metadata": {},
   "outputs": [],
   "source": [
    "from solution_library import *\n",
    "\n",
    "import numpy as np, matplotlib.pyplot as plt, pandas as pd\n",
    "\n",
    "import torch\n",
    "import torch.nn as nn\n",
    "import torch.optim as optim\n",
    "import torch.nn.functional as F\n",
    "from torch.utils.data import DataLoader, Dataset\n",
    "\n",
    "from sklearn.preprocessing import MinMaxScaler\n",
    "\n",
    "import warnings\n",
    "\n",
    "torch.set_default_dtype(torch.float64)"
   ]
  },
  {
   "cell_type": "code",
   "execution_count": 158,
   "metadata": {},
   "outputs": [],
   "source": [
    "class Net(nn.Module):\n",
    "    def __init__(self):\n",
    "        super(Net, self).__init__()\n",
    "        self.fc1 = nn.Linear(29, 128)\n",
    "        self.fc2 = nn.Linear(128, 128)\n",
    "        self.fc3 = nn.Linear(128, 1)\n",
    "\n",
    "    def forward(self, x):\n",
    "        x = F.relu(self.fc1(x))\n",
    "        x = F.relu(self.fc2(x))\n",
    "        return self.fc3(x)"
   ]
  },
  {
   "cell_type": "code",
   "execution_count": 159,
   "metadata": {},
   "outputs": [],
   "source": [
    "with warnings.catch_warnings(action=\"ignore\"):\n",
    "    x_df, y_df = claims_preprocess_get_xy()"
   ]
  },
  {
   "cell_type": "code",
   "execution_count": 160,
   "metadata": {},
   "outputs": [],
   "source": [
    "x = x_df.values.astype(np.float64)\n",
    "y = y_df.values.astype(np.float64)\n",
    "\n",
    "scalar = MinMaxScaler() # USE THIS SAME SCALAR LATER\n",
    "x_norm = scalar.fit_transform(x)\n",
    "\n",
    "x_train, x_test, y_train, y_test = sklearn.model_selection.train_test_split(x_norm, y, test_size = 0.15, random_state=0)\n",
    "\n",
    "inputs = torch.from_numpy(x_train)\n",
    "targets = torch.from_numpy(y_train)\n",
    "x_test = torch.from_numpy(x_test)\n",
    "y_test = torch.from_numpy(y_test)"
   ]
  },
  {
   "cell_type": "code",
   "execution_count": 166,
   "metadata": {},
   "outputs": [
    {
     "data": {
      "text/plain": [
       "array([[0.        , 0.        , 0.        , ..., 0.23788989, 0.50900548,\n",
       "        0.05475306],\n",
       "       [0.        , 0.        , 1.        , ..., 0.12226626, 0.34651527,\n",
       "        0.50502132],\n",
       "       [0.        , 1.        , 0.        , ..., 0.00970999, 0.        ,\n",
       "        0.93960655],\n",
       "       ...,\n",
       "       [0.        , 0.        , 1.        , ..., 0.20338207, 0.55755677,\n",
       "        0.36112258],\n",
       "       [0.        , 0.        , 0.        , ..., 0.039806  , 0.32419734,\n",
       "        0.32824322],\n",
       "       [0.        , 0.        , 0.        , ..., 0.28838187, 0.64996085,\n",
       "        0.42014032]])"
      ]
     },
     "execution_count": 166,
     "metadata": {},
     "output_type": "execute_result"
    }
   ],
   "source": [
    "x_norm"
   ]
  },
  {
   "cell_type": "code",
   "execution_count": 161,
   "metadata": {},
   "outputs": [],
   "source": [
    "model = Net()\n",
    "\n",
    "criterion = nn.MSELoss()\n",
    "# optimizer = optim.Adam(model.parameters(), lr=0.02)\n",
    "# optimizer = optim.SGD(model.parameters(), lr=0.025)\n",
    "optimizer = optim.LBFGS(model.parameters(), lr = 0.01)\n"
   ]
  },
  {
   "cell_type": "code",
   "execution_count": 162,
   "metadata": {},
   "outputs": [
    {
     "data": {
      "text/plain": [
       "\"# FOR ADAM\\n\\nbatch_size = 64\\ndataset = torch.utils.data.TensorDataset(inputs, targets)\\ndataloader = torch.utils.data.DataLoader(dataset, batch_size=batch_size, shuffle=True)\\n\\ncount = 0\\n\\nfor epoch in range(150):\\n    try:\\n        for inputs_batch, targets_batch in dataloader:\\n            optimizer.zero_grad()  # zero the parameter gradients\\n            outputs = model(inputs_batch)  # forward pass\\n            loss = torch.sqrt(criterion(outputs, targets_batch))  # compute loss\\n            loss.backward()  # backward pass\\n            optimizer.step()  # update weights\\n\\n        # Evaluate on the validation set\\n        with torch.no_grad():\\n            val_outputs = model(x_test)\\n            val_loss = torch.sqrt(criterion(val_outputs, y_test))\\n\\n        print(f'Epoch: {epoch + 1:4d}. Loss: {loss.item():.3f}. Validation Loss: {val_loss.item():.3f}')\\n\\n        if loss.item() < 700 and count > 5:\\n            break\\n        elif loss.item() < 700:\\n            count += 1\\n            pass\\n\\n    except KeyboardInterrupt:\\n        print('Ended Training Early')\\n        break\\nprint('Finished Training')\""
      ]
     },
     "execution_count": 162,
     "metadata": {},
     "output_type": "execute_result"
    }
   ],
   "source": [
    "'''# FOR ADAM\n",
    "\n",
    "batch_size = 64\n",
    "dataset = torch.utils.data.TensorDataset(inputs, targets)\n",
    "dataloader = torch.utils.data.DataLoader(dataset, batch_size=batch_size, shuffle=True)\n",
    "\n",
    "count = 0\n",
    "\n",
    "for epoch in range(150):\n",
    "    try:\n",
    "        for inputs_batch, targets_batch in dataloader:\n",
    "            optimizer.zero_grad()  # zero the parameter gradients\n",
    "            outputs = model(inputs_batch)  # forward pass\n",
    "            loss = torch.sqrt(criterion(outputs, targets_batch))  # compute loss\n",
    "            loss.backward()  # backward pass\n",
    "            optimizer.step()  # update weights\n",
    "\n",
    "        # Evaluate on the validation set\n",
    "        with torch.no_grad():\n",
    "            val_outputs = model(x_test)\n",
    "            val_loss = torch.sqrt(criterion(val_outputs, y_test))\n",
    "\n",
    "        print(f'Epoch: {epoch + 1:4d}. Loss: {loss.item():.3f}. Validation Loss: {val_loss.item():.3f}')\n",
    "\n",
    "        if loss.item() < 700 and count > 5:\n",
    "            break\n",
    "        elif loss.item() < 700:\n",
    "            count += 1\n",
    "            pass\n",
    "\n",
    "    except KeyboardInterrupt:\n",
    "        print('Ended Training Early')\n",
    "        break\n",
    "print('Finished Training')'''"
   ]
  },
  {
   "cell_type": "code",
   "execution_count": 163,
   "metadata": {},
   "outputs": [],
   "source": [
    "model1 = Net()\n",
    "\n",
    "criterion1 = nn.MSELoss()\n",
    "optimizer1 = optim.LBFGS(model1.parameters(), lr = 0.01)\n"
   ]
  },
  {
   "cell_type": "code",
   "execution_count": 164,
   "metadata": {},
   "outputs": [
    {
     "name": "stderr",
     "output_type": "stream",
     "text": [
      "c:\\Users\\kyle\\OneDrive\\Programs\\Cooperators_2024\\.venv\\Lib\\site-packages\\torch\\nn\\modules\\loss.py:535: UserWarning: Using a target size (torch.Size([64])) that is different to the input size (torch.Size([64, 1])). This will likely lead to incorrect results due to broadcasting. Please ensure they have the same size.\n",
      "  return F.mse_loss(input, target, reduction=self.reduction)\n",
      "c:\\Users\\kyle\\OneDrive\\Programs\\Cooperators_2024\\.venv\\Lib\\site-packages\\torch\\nn\\modules\\loss.py:535: UserWarning: Using a target size (torch.Size([15])) that is different to the input size (torch.Size([15, 1])). This will likely lead to incorrect results due to broadcasting. Please ensure they have the same size.\n",
      "  return F.mse_loss(input, target, reduction=self.reduction)\n",
      "c:\\Users\\kyle\\OneDrive\\Programs\\Cooperators_2024\\.venv\\Lib\\site-packages\\torch\\nn\\modules\\loss.py:535: UserWarning: Using a target size (torch.Size([2126])) that is different to the input size (torch.Size([2126, 1])). This will likely lead to incorrect results due to broadcasting. Please ensure they have the same size.\n",
      "  return F.mse_loss(input, target, reduction=self.reduction)\n"
     ]
    },
    {
     "name": "stdout",
     "output_type": "stream",
     "text": [
      "Epoch:    1. Loss: 1586.872. Validation Loss: 1815.819\n",
      "Epoch:    2. Loss: 1586.872. Validation Loss: 1815.819\n",
      "Epoch:    3. Loss: 1586.872. Validation Loss: 1815.819\n",
      "Epoch:    4. Loss: 1586.872. Validation Loss: 1815.819\n",
      "Epoch:    5. Loss: 1586.872. Validation Loss: 1815.819\n",
      "Epoch:    6. Loss: 1586.872. Validation Loss: 1815.819\n",
      "Epoch:    7. Loss: 1586.872. Validation Loss: 1815.819\n",
      "Epoch:    8. Loss: 1586.872. Validation Loss: 1815.819\n",
      "Epoch:    9. Loss: 1586.872. Validation Loss: 1815.819\n",
      "Epoch:   10. Loss: 1586.872. Validation Loss: 1815.819\n",
      "Epoch:   11. Loss: 1586.872. Validation Loss: 1815.819\n",
      "Epoch:   12. Loss: 1586.872. Validation Loss: 1815.819\n",
      "Epoch:   13. Loss: 1586.872. Validation Loss: 1815.819\n",
      "Epoch:   14. Loss: 1586.872. Validation Loss: 1815.819\n",
      "Epoch:   15. Loss: 1586.872. Validation Loss: 1815.819\n",
      "Epoch:   16. Loss: 1586.872. Validation Loss: 1815.819\n",
      "Epoch:   17. Loss: 1586.872. Validation Loss: 1815.819\n",
      "Epoch:   18. Loss: 1586.872. Validation Loss: 1815.819\n",
      "Epoch:   19. Loss: 1586.872. Validation Loss: 1815.819\n",
      "Epoch:   20. Loss: 1586.872. Validation Loss: 1815.819\n",
      "Epoch:   21. Loss: 1586.872. Validation Loss: 1815.819\n",
      "Epoch:   22. Loss: 1586.872. Validation Loss: 1815.819\n",
      "Epoch:   23. Loss: 1586.872. Validation Loss: 1815.819\n",
      "Epoch:   24. Loss: 1586.872. Validation Loss: 1815.819\n",
      "Epoch:   25. Loss: 1586.872. Validation Loss: 1815.819\n",
      "Epoch:   26. Loss: 1586.872. Validation Loss: 1815.819\n",
      "Epoch:   27. Loss: 1586.872. Validation Loss: 1815.819\n",
      "Epoch:   28. Loss: 1586.872. Validation Loss: 1815.819\n",
      "Epoch:   29. Loss: 1586.872. Validation Loss: 1815.819\n",
      "Epoch:   30. Loss: 1586.872. Validation Loss: 1815.819\n",
      "Epoch:   31. Loss: 1586.872. Validation Loss: 1815.819\n",
      "Epoch:   32. Loss: 1586.872. Validation Loss: 1815.819\n",
      "Epoch:   33. Loss: 1586.872. Validation Loss: 1815.819\n",
      "Epoch:   34. Loss: 1586.872. Validation Loss: 1815.819\n",
      "Epoch:   35. Loss: 1586.872. Validation Loss: 1815.819\n",
      "Epoch:   36. Loss: 1586.872. Validation Loss: 1815.819\n",
      "Epoch:   37. Loss: 1586.872. Validation Loss: 1815.819\n",
      "Epoch:   38. Loss: 1586.872. Validation Loss: 1815.819\n",
      "Epoch:   39. Loss: 1586.872. Validation Loss: 1815.819\n",
      "Epoch:   40. Loss: 1586.872. Validation Loss: 1815.819\n",
      "Epoch:   41. Loss: 1586.872. Validation Loss: 1815.819\n",
      "Epoch:   42. Loss: 1586.872. Validation Loss: 1815.819\n",
      "Epoch:   43. Loss: 1586.872. Validation Loss: 1815.819\n",
      "Epoch:   44. Loss: 1586.872. Validation Loss: 1815.819\n",
      "Epoch:   45. Loss: 1586.872. Validation Loss: 1815.819\n",
      "Epoch:   46. Loss: 1586.872. Validation Loss: 1815.819\n",
      "Epoch:   47. Loss: 1586.872. Validation Loss: 1815.819\n",
      "Epoch:   48. Loss: 1586.872. Validation Loss: 1815.819\n",
      "Epoch:   49. Loss: 1586.872. Validation Loss: 1815.819\n",
      "Epoch:   50. Loss: 1586.872. Validation Loss: 1815.819\n",
      "Epoch:   51. Loss: 1586.872. Validation Loss: 1815.819\n",
      "Epoch:   52. Loss: 1586.872. Validation Loss: 1815.819\n",
      "Ended Training Early\n",
      "Finished Training\n"
     ]
    }
   ],
   "source": [
    "batch_size = 64\n",
    "dataset = torch.utils.data.TensorDataset(inputs, targets)\n",
    "dataloader = torch.utils.data.DataLoader(dataset, batch_size=batch_size, shuffle=True)\n",
    "\n",
    "count = 0\n",
    "\n",
    "for epoch in range(2000):\n",
    "    try:\n",
    "        for inputs_batch, targets_batch in dataloader:\n",
    "            \n",
    "            def closure():\n",
    "                optimizer1.zero_grad()  # zero the parameter gradients\n",
    "                outputs = model(inputs_batch)  # forward pass\n",
    "                loss = torch.sqrt(criterion1(outputs, targets_batch))  # compute loss\n",
    "                loss.backward()  # backward pass\n",
    "                return loss\n",
    "                \n",
    "            optimizer.step(closure)  # update weights\n",
    "\n",
    "        # Evaluate on the validation set\n",
    "        with torch.no_grad():\n",
    "            val_outputs = model1(x_test)\n",
    "            val_loss = torch.sqrt(criterion1(val_outputs, y_test))\n",
    "\n",
    "        print(f'Epoch: {epoch + 1:4d}. Loss: {loss.item():.3f}. Validation Loss: {val_loss.item():.3f}')\n",
    "\n",
    "        if loss.item() < 700 and count > 5:\n",
    "            break\n",
    "        elif loss.item() < 700:\n",
    "            count += 1\n",
    "            pass\n",
    "\n",
    "    except KeyboardInterrupt:\n",
    "        print('Ended Training Early')\n",
    "        break\n",
    "print('Finished Training')"
   ]
  },
  {
   "cell_type": "code",
   "execution_count": null,
   "metadata": {},
   "outputs": [],
   "source": [
    "model2 = Net()\n",
    "\n",
    "criterion2 = nn.MSELoss()\n",
    "optimizer2 = optim.LBFGS(model2.parameters(), lr = 0.01)\n"
   ]
  },
  {
   "cell_type": "code",
   "execution_count": null,
   "metadata": {},
   "outputs": [
    {
     "name": "stderr",
     "output_type": "stream",
     "text": [
      "c:\\Users\\kyle\\OneDrive\\Programs\\Cooperators_2024\\.venv\\Lib\\site-packages\\torch\\nn\\modules\\loss.py:535: UserWarning: Using a target size (torch.Size([64])) that is different to the input size (torch.Size([64, 1])). This will likely lead to incorrect results due to broadcasting. Please ensure they have the same size.\n",
      "  return F.mse_loss(input, target, reduction=self.reduction)\n",
      "c:\\Users\\kyle\\OneDrive\\Programs\\Cooperators_2024\\.venv\\Lib\\site-packages\\torch\\nn\\modules\\loss.py:535: UserWarning: Using a target size (torch.Size([2126])) that is different to the input size (torch.Size([2126, 1])). This will likely lead to incorrect results due to broadcasting. Please ensure they have the same size.\n",
      "  return F.mse_loss(input, target, reduction=self.reduction)\n"
     ]
    },
    {
     "name": "stdout",
     "output_type": "stream",
     "text": [
      "Epoch:    1. Loss: 1586.872. Validation Loss: 2080.524\n",
      "Epoch:    2. Loss: 1586.872. Validation Loss: 1654.992\n",
      "Epoch:    3. Loss: 1586.872. Validation Loss: 1536.082\n",
      "Epoch:    4. Loss: 1586.872. Validation Loss: 1486.061\n",
      "Epoch:    5. Loss: 1586.872. Validation Loss: 1460.129\n",
      "Epoch:    6. Loss: 1586.872. Validation Loss: 1444.363\n",
      "Epoch:    7. Loss: 1586.872. Validation Loss: 1434.659\n",
      "Epoch:    8. Loss: 1586.872. Validation Loss: 1428.873\n",
      "Epoch:    9. Loss: 1586.872. Validation Loss: 1425.349\n",
      "Epoch:   10. Loss: 1586.872. Validation Loss: 1423.282\n",
      "Epoch:   11. Loss: 1586.872. Validation Loss: 1422.037\n",
      "Epoch:   12. Loss: 1586.872. Validation Loss: 1421.268\n",
      "Epoch:   13. Loss: 1586.872. Validation Loss: 1420.692\n",
      "Epoch:   14. Loss: 1586.872. Validation Loss: 1420.206\n",
      "Epoch:   15. Loss: 1586.872. Validation Loss: 1419.774\n",
      "Ended Training Early\n",
      "Finished Training\n"
     ]
    }
   ],
   "source": [
    "for epoch in range(10000):\n",
    "    try:\n",
    "        def closure():\n",
    "            optimizer2.zero_grad()  # zero the parameter gradients\n",
    "            outputs = model2(inputs_batch)  # forward pass\n",
    "            loss = torch.sqrt(criterion2(outputs, targets_batch))  # compute loss\n",
    "            loss.backward()  # backward pass\n",
    "            return loss\n",
    "            \n",
    "        optimizer2.step(closure)  # update weights\n",
    "\n",
    "        # Evaluate on the validation set\n",
    "        with torch.no_grad():\n",
    "            val_outputs = model2(x_test)\n",
    "            val_loss = torch.sqrt(criterion2(val_outputs, y_test))\n",
    "\n",
    "        print(f'Epoch: {epoch + 1:4d}. Loss: {loss.item():.3f}. Validation Loss: {val_loss.item():.3f}')\n",
    "\n",
    "\n",
    "\n",
    "    except KeyboardInterrupt:\n",
    "        print('Ended Training Early')\n",
    "        break\n",
    "print('Finished Training')"
   ]
  },
  {
   "cell_type": "code",
   "execution_count": null,
   "metadata": {},
   "outputs": [],
   "source": [
    "# for epoch in range(9000):\n",
    "#     try:\n",
    "#         outputs = model(inputs) # forward + backward + optimize        \n",
    "#         loss = criterion(outputs, targets)\n",
    "\n",
    "#         optimizer.zero_grad() # zero the parameter gradients\n",
    "#         loss.backward()\n",
    "#         optimizer.step()\n",
    "\n",
    "#         print(f'Epoch: {epoch + 1:4d}. Loss: {loss:.3f}')\n",
    "\n",
    "#         if loss < 1E-7:\n",
    "#             break\n",
    "#             # pass\n",
    "\n",
    "#     except KeyboardInterrupt:\n",
    "#         print('Ended Training Early')\n",
    "#         break\n",
    "\n",
    "\n",
    "# print('Finished Training')"
   ]
  },
  {
   "cell_type": "code",
   "execution_count": null,
   "metadata": {},
   "outputs": [
    {
     "name": "stderr",
     "output_type": "stream",
     "text": [
      "c:\\Users\\kyle\\OneDrive\\Programs\\Cooperators_2024\\solution_library.py:119: FutureWarning: Downcasting behavior in `replace` is deprecated and will be removed in a future version. To retain the old behavior, explicitly call `result.infer_objects(copy=False)`. To opt-in to the future behavior, set `pd.set_option('future.no_silent_downcasting', True)`\n",
      "  claims['pol_pay_freq'] = claims['pol_pay_freq'].replace( {'Biannual': 2, 'Yearly': 1, 'Monthly': 12, 'Quarterly': 4} )\n",
      "c:\\Users\\kyle\\OneDrive\\Programs\\Cooperators_2024\\solution_library.py:120: FutureWarning: Downcasting behavior in `replace` is deprecated and will be removed in a future version. To retain the old behavior, explicitly call `result.infer_objects(copy=False)`. To opt-in to the future behavior, set `pd.set_option('future.no_silent_downcasting', True)`\n",
      "  claims['pol_payd'] = claims['pol_payd'].replace( {'No': 0, 'Yes': 1} )\n",
      "c:\\Users\\kyle\\OneDrive\\Programs\\Cooperators_2024\\solution_library.py:121: FutureWarning: Downcasting behavior in `replace` is deprecated and will be removed in a future version. To retain the old behavior, explicitly call `result.infer_objects(copy=False)`. To opt-in to the future behavior, set `pd.set_option('future.no_silent_downcasting', True)`\n",
      "  claims['drv_sex1'] = claims['drv_sex1'].replace( {'M': 1, 'F': 0} )\n",
      "c:\\Users\\kyle\\OneDrive\\Programs\\Cooperators_2024\\solution_library.py:122: FutureWarning: Downcasting behavior in `replace` is deprecated and will be removed in a future version. To retain the old behavior, explicitly call `result.infer_objects(copy=False)`. To opt-in to the future behavior, set `pd.set_option('future.no_silent_downcasting', True)`\n",
      "  claims['vh_type'] = claims['vh_type'].replace( {'Tourism': 1, 'Commercial': 0} )\n",
      "c:\\Users\\kyle\\OneDrive\\Programs\\Cooperators_2024\\solution_library.py:123: FutureWarning: Downcasting behavior in `replace` is deprecated and will be removed in a future version. To retain the old behavior, explicitly call `result.infer_objects(copy=False)`. To opt-in to the future behavior, set `pd.set_option('future.no_silent_downcasting', True)`\n",
      "  claims['drv_drv2'] = claims['drv_drv2'].replace( {'No': 0, 'Yes': 1} )\n"
     ]
    }
   ],
   "source": [
    "x_new, ids = preprocess_x(load_tests())\n",
    "\n",
    "x_new = x_new.values.astype(np.float64)\n",
    "\n",
    "x_new_norm = scalar.transform(x_new)\n",
    "\n",
    "inputs_pred = torch.from_numpy(x_new_norm)\n",
    "\n",
    "model.eval() # convert to evaluation mode\n",
    "\n",
    "with torch.no_grad(): # forward pass\n",
    "    predictions = model(inputs_pred)\n",
    "\n"
   ]
  },
  {
   "cell_type": "code",
   "execution_count": null,
   "metadata": {},
   "outputs": [
    {
     "data": {
      "text/plain": [
       "tensor(1416.9009)"
      ]
     },
     "execution_count": 139,
     "metadata": {},
     "output_type": "execute_result"
    }
   ],
   "source": [
    "rmse = RMSE(predictions, y_test)\n",
    "rmse"
   ]
  },
  {
   "cell_type": "code",
   "execution_count": null,
   "metadata": {},
   "outputs": [
    {
     "data": {
      "text/html": [
       "<div>\n",
       "<style scoped>\n",
       "    .dataframe tbody tr th:only-of-type {\n",
       "        vertical-align: middle;\n",
       "    }\n",
       "\n",
       "    .dataframe tbody tr th {\n",
       "        vertical-align: top;\n",
       "    }\n",
       "\n",
       "    .dataframe thead th {\n",
       "        text-align: right;\n",
       "    }\n",
       "</style>\n",
       "<table border=\"1\" class=\"dataframe\">\n",
       "  <thead>\n",
       "    <tr style=\"text-align: right;\">\n",
       "      <th></th>\n",
       "      <th>claim_amount</th>\n",
       "    </tr>\n",
       "  </thead>\n",
       "  <tbody>\n",
       "    <tr>\n",
       "      <th>0</th>\n",
       "      <td>1132.507558</td>\n",
       "    </tr>\n",
       "    <tr>\n",
       "      <th>1</th>\n",
       "      <td>1122.830905</td>\n",
       "    </tr>\n",
       "    <tr>\n",
       "      <th>2</th>\n",
       "      <td>1143.387248</td>\n",
       "    </tr>\n",
       "    <tr>\n",
       "      <th>3</th>\n",
       "      <td>1126.137521</td>\n",
       "    </tr>\n",
       "    <tr>\n",
       "      <th>4</th>\n",
       "      <td>1136.761373</td>\n",
       "    </tr>\n",
       "    <tr>\n",
       "      <th>...</th>\n",
       "      <td>...</td>\n",
       "    </tr>\n",
       "    <tr>\n",
       "      <th>4135</th>\n",
       "      <td>1131.069713</td>\n",
       "    </tr>\n",
       "    <tr>\n",
       "      <th>4136</th>\n",
       "      <td>1117.706367</td>\n",
       "    </tr>\n",
       "    <tr>\n",
       "      <th>4137</th>\n",
       "      <td>1134.945978</td>\n",
       "    </tr>\n",
       "    <tr>\n",
       "      <th>4138</th>\n",
       "      <td>1132.106309</td>\n",
       "    </tr>\n",
       "    <tr>\n",
       "      <th>4139</th>\n",
       "      <td>1144.509659</td>\n",
       "    </tr>\n",
       "  </tbody>\n",
       "</table>\n",
       "<p>4140 rows × 1 columns</p>\n",
       "</div>"
      ],
      "text/plain": [
       "      claim_amount\n",
       "0      1132.507558\n",
       "1      1122.830905\n",
       "2      1143.387248\n",
       "3      1126.137521\n",
       "4      1136.761373\n",
       "...            ...\n",
       "4135   1131.069713\n",
       "4136   1117.706367\n",
       "4137   1134.945978\n",
       "4138   1132.106309\n",
       "4139   1144.509659\n",
       "\n",
       "[4140 rows x 1 columns]"
      ]
     },
     "execution_count": 140,
     "metadata": {},
     "output_type": "execute_result"
    }
   ],
   "source": [
    "predictions = pd.DataFrame(predictions, columns=['claim_amount'])\n",
    "\n",
    "save_data = pd.concat([ids, predictions], axis = 1)\n",
    "\n",
    "save_data.to_csv(f'predictions/pred_nn_v2.csv')\n",
    "\n",
    "predictions"
   ]
  },
  {
   "cell_type": "code",
   "execution_count": 165,
   "metadata": {},
   "outputs": [
    {
     "name": "stderr",
     "output_type": "stream",
     "text": [
      "c:\\Users\\kyle\\OneDrive\\Programs\\Cooperators_2024\\solution_library.py:119: FutureWarning: Downcasting behavior in `replace` is deprecated and will be removed in a future version. To retain the old behavior, explicitly call `result.infer_objects(copy=False)`. To opt-in to the future behavior, set `pd.set_option('future.no_silent_downcasting', True)`\n",
      "  claims['pol_pay_freq'] = claims['pol_pay_freq'].replace( {'Biannual': 2, 'Yearly': 1, 'Monthly': 12, 'Quarterly': 4} )\n",
      "c:\\Users\\kyle\\OneDrive\\Programs\\Cooperators_2024\\solution_library.py:120: FutureWarning: Downcasting behavior in `replace` is deprecated and will be removed in a future version. To retain the old behavior, explicitly call `result.infer_objects(copy=False)`. To opt-in to the future behavior, set `pd.set_option('future.no_silent_downcasting', True)`\n",
      "  claims['pol_payd'] = claims['pol_payd'].replace( {'No': 0, 'Yes': 1} )\n",
      "c:\\Users\\kyle\\OneDrive\\Programs\\Cooperators_2024\\solution_library.py:121: FutureWarning: Downcasting behavior in `replace` is deprecated and will be removed in a future version. To retain the old behavior, explicitly call `result.infer_objects(copy=False)`. To opt-in to the future behavior, set `pd.set_option('future.no_silent_downcasting', True)`\n",
      "  claims['drv_sex1'] = claims['drv_sex1'].replace( {'M': 1, 'F': 0} )\n",
      "c:\\Users\\kyle\\OneDrive\\Programs\\Cooperators_2024\\solution_library.py:122: FutureWarning: Downcasting behavior in `replace` is deprecated and will be removed in a future version. To retain the old behavior, explicitly call `result.infer_objects(copy=False)`. To opt-in to the future behavior, set `pd.set_option('future.no_silent_downcasting', True)`\n",
      "  claims['vh_type'] = claims['vh_type'].replace( {'Tourism': 1, 'Commercial': 0} )\n",
      "c:\\Users\\kyle\\OneDrive\\Programs\\Cooperators_2024\\solution_library.py:123: FutureWarning: Downcasting behavior in `replace` is deprecated and will be removed in a future version. To retain the old behavior, explicitly call `result.infer_objects(copy=False)`. To opt-in to the future behavior, set `pd.set_option('future.no_silent_downcasting', True)`\n",
      "  claims['drv_drv2'] = claims['drv_drv2'].replace( {'No': 0, 'Yes': 1} )\n"
     ]
    },
    {
     "data": {
      "text/html": [
       "<div>\n",
       "<style scoped>\n",
       "    .dataframe tbody tr th:only-of-type {\n",
       "        vertical-align: middle;\n",
       "    }\n",
       "\n",
       "    .dataframe tbody tr th {\n",
       "        vertical-align: top;\n",
       "    }\n",
       "\n",
       "    .dataframe thead th {\n",
       "        text-align: right;\n",
       "    }\n",
       "</style>\n",
       "<table border=\"1\" class=\"dataframe\">\n",
       "  <thead>\n",
       "    <tr style=\"text-align: right;\">\n",
       "      <th></th>\n",
       "      <th>claim_amount</th>\n",
       "    </tr>\n",
       "  </thead>\n",
       "  <tbody>\n",
       "    <tr>\n",
       "      <th>0</th>\n",
       "      <td>0.078086</td>\n",
       "    </tr>\n",
       "    <tr>\n",
       "      <th>1</th>\n",
       "      <td>0.084223</td>\n",
       "    </tr>\n",
       "    <tr>\n",
       "      <th>2</th>\n",
       "      <td>0.022502</td>\n",
       "    </tr>\n",
       "    <tr>\n",
       "      <th>3</th>\n",
       "      <td>0.078890</td>\n",
       "    </tr>\n",
       "    <tr>\n",
       "      <th>4</th>\n",
       "      <td>0.033416</td>\n",
       "    </tr>\n",
       "    <tr>\n",
       "      <th>...</th>\n",
       "      <td>...</td>\n",
       "    </tr>\n",
       "    <tr>\n",
       "      <th>4135</th>\n",
       "      <td>0.023436</td>\n",
       "    </tr>\n",
       "    <tr>\n",
       "      <th>4136</th>\n",
       "      <td>0.091254</td>\n",
       "    </tr>\n",
       "    <tr>\n",
       "      <th>4137</th>\n",
       "      <td>0.070797</td>\n",
       "    </tr>\n",
       "    <tr>\n",
       "      <th>4138</th>\n",
       "      <td>0.043806</td>\n",
       "    </tr>\n",
       "    <tr>\n",
       "      <th>4139</th>\n",
       "      <td>0.059778</td>\n",
       "    </tr>\n",
       "  </tbody>\n",
       "</table>\n",
       "<p>4140 rows × 1 columns</p>\n",
       "</div>"
      ],
      "text/plain": [
       "      claim_amount\n",
       "0         0.078086\n",
       "1         0.084223\n",
       "2         0.022502\n",
       "3         0.078890\n",
       "4         0.033416\n",
       "...            ...\n",
       "4135      0.023436\n",
       "4136      0.091254\n",
       "4137      0.070797\n",
       "4138      0.043806\n",
       "4139      0.059778\n",
       "\n",
       "[4140 rows x 1 columns]"
      ]
     },
     "execution_count": 165,
     "metadata": {},
     "output_type": "execute_result"
    }
   ],
   "source": [
    "# Predictions for model1\n",
    "\n",
    "x_new, ids = preprocess_x(load_tests())\n",
    "\n",
    "x_new = x_new.values.astype(np.float64)\n",
    "\n",
    "x_new_norm = scalar.transform(x_new)\n",
    "\n",
    "inputs_pred = torch.from_numpy(x_new_norm)\n",
    "\n",
    "model1.eval() # convert to evaluation mode\n",
    "\n",
    "with torch.no_grad(): # forward pass\n",
    "    predictions = model1(inputs_pred)\n",
    "\n",
    "predictions = pd.DataFrame(predictions, columns=['claim_amount'])\n",
    "\n",
    "save_data = pd.concat([ids, predictions], axis = 1)\n",
    "\n",
    "save_data.to_csv(f'predictions/pred_nn_v_3.csv')\n",
    "\n",
    "predictions"
   ]
  },
  {
   "cell_type": "code",
   "execution_count": null,
   "metadata": {},
   "outputs": [],
   "source": [
    "# Predictions for model2\n",
    "\n",
    "x_new, ids = preprocess_x(load_tests())\n",
    "\n",
    "x_new = x_new.values.astype(np.float64)\n",
    "\n",
    "x_new_norm = scalar.transform(x_new)\n",
    "\n",
    "inputs_pred = torch.from_numpy(x_new_norm)\n",
    "\n",
    "model2.eval() # convert to evaluation mode\n",
    "\n",
    "with torch.no_grad(): # forward pass\n",
    "    predictions = model2(inputs_pred)\n",
    "\n",
    "predictions = pd.DataFrame(predictions, columns=['claim_amount'])\n",
    "\n",
    "save_data = pd.concat([ids, predictions], axis = 1)\n",
    "\n",
    "save_data.to_csv(f'predictions/pred_nn_v_4.csv')\n",
    "\n",
    "predictions"
   ]
  }
 ],
 "metadata": {
  "kernelspec": {
   "display_name": ".venv",
   "language": "python",
   "name": "python3"
  },
  "language_info": {
   "codemirror_mode": {
    "name": "ipython",
    "version": 3
   },
   "file_extension": ".py",
   "mimetype": "text/x-python",
   "name": "python",
   "nbconvert_exporter": "python",
   "pygments_lexer": "ipython3",
   "version": "3.11.5"
  }
 },
 "nbformat": 4,
 "nbformat_minor": 2
}
