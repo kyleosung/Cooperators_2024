{
 "cells": [
  {
   "cell_type": "code",
   "execution_count": 1,
   "metadata": {},
   "outputs": [],
   "source": [
    "%%capture\n",
    "#### Load Libraries (without cell output)\n",
    "\n",
    "import autograd.numpy as np # import autograd wrapped numpy\n",
    "import pandas as pd\n",
    "import matplotlib.pyplot as plt\n",
    "\n",
    "import seaborn as sns\n",
    "import sklearn\n",
    "from sklearn.tree import DecisionTreeRegressor, DecisionTreeClassifier\n",
    "from sklearn.model_selection import train_test_split\n",
    "from sklearn import neighbors, metrics\n",
    "from sklearn.preprocessing import scale"
   ]
  },
  {
   "cell_type": "code",
   "execution_count": 2,
   "metadata": {},
   "outputs": [],
   "source": [
    "claims = pd.read_csv(\"./Qualification_Package/Claims_Years_1_to_3.csv\")"
   ]
  },
  {
   "cell_type": "code",
   "execution_count": 3,
   "metadata": {},
   "outputs": [],
   "source": [
    "#### Calculate RMSE for predictions\n",
    "def RMSE(x, y):\n",
    "    MSE = ((y - x) ** 2).mean()\n",
    "    return np.sqrt(MSE)\n",
    "\n",
    "# This benchmark RMSE is 2193.342.\n",
    "# We must iterate from here to get a better model, either with GLM, machine learning, or something else."
   ]
  },
  {
   "cell_type": "code",
   "execution_count": 4,
   "metadata": {},
   "outputs": [
    {
     "name": "stderr",
     "output_type": "stream",
     "text": [
      "C:\\Users\\kyle\\AppData\\Local\\Temp\\ipykernel_22168\\22812456.py:1: FutureWarning: Downcasting behavior in `replace` is deprecated and will be removed in a future version. To retain the old behavior, explicitly call `result.infer_objects(copy=False)`. To opt-in to the future behavior, set `pd.set_option('future.no_silent_downcasting', True)`\n",
      "  claims['pol_pay_freq'] = claims['pol_pay_freq'].replace( {'Biannual': 2, 'Yearly': 1, 'Monthly': 12, 'Quarterly': 4} )\n",
      "C:\\Users\\kyle\\AppData\\Local\\Temp\\ipykernel_22168\\22812456.py:2: FutureWarning: Downcasting behavior in `replace` is deprecated and will be removed in a future version. To retain the old behavior, explicitly call `result.infer_objects(copy=False)`. To opt-in to the future behavior, set `pd.set_option('future.no_silent_downcasting', True)`\n",
      "  claims['pol_payd'] = claims['pol_payd'].replace( {'No': 0, 'Yes': 1} )\n",
      "C:\\Users\\kyle\\AppData\\Local\\Temp\\ipykernel_22168\\22812456.py:3: FutureWarning: Downcasting behavior in `replace` is deprecated and will be removed in a future version. To retain the old behavior, explicitly call `result.infer_objects(copy=False)`. To opt-in to the future behavior, set `pd.set_option('future.no_silent_downcasting', True)`\n",
      "  claims['drv_sex1'] = claims['drv_sex1'].replace( {'M': 1, 'F': 0} )\n",
      "C:\\Users\\kyle\\AppData\\Local\\Temp\\ipykernel_22168\\22812456.py:4: FutureWarning: Downcasting behavior in `replace` is deprecated and will be removed in a future version. To retain the old behavior, explicitly call `result.infer_objects(copy=False)`. To opt-in to the future behavior, set `pd.set_option('future.no_silent_downcasting', True)`\n",
      "  claims['vh_type'] = claims['vh_type'].replace( {'Tourism': 1, 'Commercial': 0} )\n",
      "C:\\Users\\kyle\\AppData\\Local\\Temp\\ipykernel_22168\\22812456.py:5: FutureWarning: Downcasting behavior in `replace` is deprecated and will be removed in a future version. To retain the old behavior, explicitly call `result.infer_objects(copy=False)`. To opt-in to the future behavior, set `pd.set_option('future.no_silent_downcasting', True)`\n",
      "  claims['drv_drv2'] = claims['drv_drv2'].replace( {'No': 0, 'Yes': 1} )\n"
     ]
    }
   ],
   "source": [
    "claims['pol_pay_freq'] = claims['pol_pay_freq'].replace( {'Biannual': 2, 'Yearly': 1, 'Monthly': 12, 'Quarterly': 4} )\n",
    "claims['pol_payd'] = claims['pol_payd'].replace( {'No': 0, 'Yes': 1} )\n",
    "claims['drv_sex1'] = claims['drv_sex1'].replace( {'M': 1, 'F': 0} )\n",
    "claims['vh_type'] = claims['vh_type'].replace( {'Tourism': 1, 'Commercial': 0} )\n",
    "claims['drv_drv2'] = claims['drv_drv2'].replace( {'No': 0, 'Yes': 1} )\n",
    "\n",
    "objects = claims.select_dtypes(['object'])\n",
    "categorical = claims.select_dtypes(['int64'])\n",
    "continuous = claims.select_dtypes(['float64'])\n",
    "\n",
    "from sklearn.impute import SimpleImputer\n",
    "\n",
    "objects_filled = SimpleImputer(missing_values=np.nan, strategy='most_frequent').fit_transform(objects)\n",
    "categorial_filled = SimpleImputer(missing_values=np.nan, strategy='median').fit_transform(categorical)\n",
    "continuous_filled = SimpleImputer(missing_values=np.nan, strategy='mean').fit_transform(continuous)\n",
    "\n",
    "objects_filled = pd.DataFrame(objects_filled, columns=objects.columns.to_list())\n",
    "categorial_filled = pd.DataFrame(categorial_filled, columns=categorical.columns.to_list())\n",
    "continuous_filled = pd.DataFrame(continuous_filled, columns=continuous.columns.to_list())\n",
    "\n",
    "design_matrix = pd.get_dummies(objects_filled, columns=['vh_make_model', 'pol_usage', 'drv_sex2', 'vh_fuel'], dtype=int)\n",
    "design_matrix\n",
    "\n",
    "objects_design = design_matrix.drop(columns=['id_policy'])\n",
    "\n",
    "df = pd.concat([objects_design, categorial_filled, continuous_filled], axis = 1)\n",
    "\n",
    "x = df.iloc[:,:-1]\n",
    "y = df.iloc[:,-1]\n",
    "\n",
    "x_train, x_test, y_train, y_test = train_test_split(\n",
    "    x,\n",
    "    y, \n",
    "    train_size = 0.8,\n",
    "    test_size = 0.2, # train is 75%, test is 25% \n",
    "    random_state = 0, # stratify = y,\n",
    ")"
   ]
  },
  {
   "cell_type": "code",
   "execution_count": 5,
   "metadata": {},
   "outputs": [
    {
     "name": "stdout",
     "output_type": "stream",
     "text": [
      "1457.421859844611\n"
     ]
    }
   ],
   "source": [
    "from sklearn.linear_model import LinearRegression\n",
    "from sklearn.tree import DecisionTreeRegressor\n",
    "from sklearn.ensemble import VotingRegressor\n",
    "from sklearn.neighbors import KNeighborsRegressor\n",
    "from sklearn import svm\n",
    "\n",
    "r1 = DecisionTreeRegressor(criterion='squared_error', splitter='best', random_state=0)\n",
    "r2 = KNeighborsRegressor(n_neighbors=30)\n",
    "r3 = svm.SVR()\n",
    "r4 = LinearRegression()\n",
    "\n",
    "er = VotingRegressor([('dt', r1), ('kn', r2), ('sv', r3)])\n",
    "\n",
    "er.fit(x_train, y_train)\n",
    "\n",
    "y_pred = er.predict(x_test)\n",
    "\n",
    "print(RMSE(y_pred, y_test))"
   ]
  },
  {
   "cell_type": "code",
   "execution_count": 6,
   "metadata": {},
   "outputs": [
    {
     "name": "stdout",
     "output_type": "stream",
     "text": [
      "1565.9609630606826\n",
      "1563.4353823845313\n",
      "1372.762275666161\n"
     ]
    }
   ],
   "source": [
    "er1 = VotingRegressor([('dt', r1), ('kn', r2)])\n",
    "er2 = VotingRegressor([('dt', r1), ('sv', r3)])\n",
    "er3 = VotingRegressor([('kn', r2), ('sv', r3)])\n",
    "\n",
    "er1.fit(x_train, y_train); er2.fit(x_train, y_train); er3.fit(x_train, y_train)\n",
    "\n",
    "y_pred1 = er1.predict(x_test); y_pred2 = er2.predict(x_test); y_pred3 = er3.predict(x_test)\n",
    "\n",
    "print(RMSE(y_pred1, y_test))\n",
    "print(RMSE(y_pred2, y_test))\n",
    "print(RMSE(y_pred3, y_test))"
   ]
  },
  {
   "cell_type": "markdown",
   "metadata": {},
   "source": [
    "Best voting regressor is just with KNN and SVM. Continue analysis with this"
   ]
  },
  {
   "cell_type": "code",
   "execution_count": 7,
   "metadata": {},
   "outputs": [
    {
     "name": "stdout",
     "output_type": "stream",
     "text": [
      "44542734.34000827\n"
     ]
    }
   ],
   "source": [
    "lin_reg = LinearRegression()\n",
    "lin_reg.fit(x_train, y_train)\n",
    "y_pred_lin_reg = lin_reg.predict(x_test)\n",
    "print(RMSE(y_pred_lin_reg, y_test))"
   ]
  },
  {
   "cell_type": "markdown",
   "metadata": {},
   "source": [
    "Linear regression seems to be terrible"
   ]
  },
  {
   "cell_type": "code",
   "execution_count": null,
   "metadata": {},
   "outputs": [],
   "source": []
  }
 ],
 "metadata": {
  "kernelspec": {
   "display_name": ".venv",
   "language": "python",
   "name": "python3"
  },
  "language_info": {
   "codemirror_mode": {
    "name": "ipython",
    "version": 3
   },
   "file_extension": ".py",
   "mimetype": "text/x-python",
   "name": "python",
   "nbconvert_exporter": "python",
   "pygments_lexer": "ipython3",
   "version": "3.11.5"
  }
 },
 "nbformat": 4,
 "nbformat_minor": 2
}
