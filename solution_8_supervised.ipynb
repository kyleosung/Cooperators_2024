{
 "cells": [
  {
   "cell_type": "code",
   "execution_count": 3,
   "metadata": {},
   "outputs": [
    {
     "name": "stdout",
     "output_type": "stream",
     "text": [
      "Training RMSE for SVR(): 1419.327930017837\n",
      "Training RMSE for RandomForestRegressor(n_estimators=10, oob_score=True, random_state=0): 1503.009063935228\n",
      "Training RMSE for KNeighborsRegressor(n_neighbors=35): 1377.135249113952\n",
      "Training RMSE for KNeighborsRegressor(n_neighbors=44): 1375.2200186168573\n",
      "Training RMSE for VotingRegressor(estimators=[('kn', KNeighborsRegressor(n_neighbors=35)),\n",
      "                            ('sv', SVR())]): 1373.8806789085725\n",
      "Training RMSE for VotingRegressor(estimators=[('kn', KNeighborsRegressor(n_neighbors=44)),\n",
      "                            ('sv', SVR())]): 1373.0245271527876\n"
     ]
    },
    {
     "data": {
      "text/plain": [
       "{1: 1419.327930017837,\n",
       " 2: 1503.009063935228,\n",
       " 3: 1377.135249113952,\n",
       " 4: 1375.2200186168573,\n",
       " 5: 1373.8806789085725,\n",
       " 6: 1373.0245271527876}"
      ]
     },
     "execution_count": 3,
     "metadata": {},
     "output_type": "execute_result"
    }
   ],
   "source": [
    "from solution_library import *\n",
    "\n",
    "from sklearn import svm\n",
    "from sklearn.linear_model import LinearRegression\n",
    "from sklearn.ensemble import RandomForestRegressor\n",
    "from sklearn.ensemble import VotingRegressor\n",
    "from sklearn.neighbors import KNeighborsRegressor\n",
    "\n",
    "import warnings\n",
    "\n",
    "models_dict = {\n",
    "    1: svm.SVR(),\n",
    "    2: RandomForestRegressor(n_estimators=10, random_state=0, oob_score=True),\n",
    "    3: KNeighborsRegressor(n_neighbors=35),\n",
    "    4: KNeighborsRegressor(n_neighbors=44),\n",
    "    5: VotingRegressor([('kn', KNeighborsRegressor(n_neighbors=35)), ('sv', svm.SVR())]),\n",
    "    6: VotingRegressor([('kn', KNeighborsRegressor(n_neighbors=44)), ('sv', svm.SVR())]),\n",
    "}\n",
    "\n",
    "rmse_dict = {}\n",
    "\n",
    "\n",
    "with warnings.catch_warnings(action=\"ignore\"):\n",
    "\n",
    "    for k, v in models_dict.items():\n",
    "        rmse = test_save_model(v, f'predictions_v{k}.csv')\n",
    "        rmse_dict[k] = rmse\n",
    "\n",
    "rmse_dict"
   ]
  }
 ],
 "metadata": {
  "kernelspec": {
   "display_name": ".venv",
   "language": "python",
   "name": "python3"
  },
  "language_info": {
   "codemirror_mode": {
    "name": "ipython",
    "version": 3
   },
   "file_extension": ".py",
   "mimetype": "text/x-python",
   "name": "python",
   "nbconvert_exporter": "python",
   "pygments_lexer": "ipython3",
   "version": "3.11.5"
  }
 },
 "nbformat": 4,
 "nbformat_minor": 2
}
