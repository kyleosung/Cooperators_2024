{
 "cells": [
  {
   "cell_type": "code",
   "execution_count": 272,
   "metadata": {},
   "outputs": [],
   "source": [
    "%%capture\n",
    "#### Load Libraries (without cell output)\n",
    "\n",
    "import autograd.numpy as np # import autograd wrapped numpy\n",
    "import pandas as pd\n",
    "import matplotlib.pyplot as plt\n",
    "\n",
    "import seaborn as sns\n",
    "import sklearn\n",
    "from sklearn.tree import DecisionTreeRegressor, DecisionTreeClassifier\n",
    "from sklearn.model_selection import train_test_split\n",
    "from sklearn import neighbors, metrics\n",
    "from sklearn.preprocessing import scale\n",
    "\n",
    "import statsmodels.api as sm\n",
    "from statsmodels.genmod.generalized_linear_model import GLM\n",
    "from statsmodels.genmod.families import Gamma"
   ]
  },
  {
   "cell_type": "code",
   "execution_count": 273,
   "metadata": {},
   "outputs": [
    {
     "name": "stdout",
     "output_type": "stream",
     "text": [
      "1187.758451280604\n",
      "(14173, 24)\n"
     ]
    }
   ],
   "source": [
    "claims = pd.read_csv(\"./Qualification_Package/Claims_Years_1_to_3.csv\")\n",
    "print(claims['claim_amount'].mean())\n",
    "\n",
    "print(claims.shape)"
   ]
  },
  {
   "cell_type": "code",
   "execution_count": 1,
   "metadata": {},
   "outputs": [
    {
     "ename": "NameError",
     "evalue": "name 'claims' is not defined",
     "output_type": "error",
     "traceback": [
      "\u001b[1;31m---------------------------------------------------------------------------\u001b[0m",
      "\u001b[1;31mNameError\u001b[0m                                 Traceback (most recent call last)",
      "Cell \u001b[1;32mIn[1], line 1\u001b[0m\n\u001b[1;32m----> 1\u001b[0m \u001b[43mclaims\u001b[49m\u001b[38;5;241m.\u001b[39mdtypes\n",
      "\u001b[1;31mNameError\u001b[0m: name 'claims' is not defined"
     ]
    }
   ],
   "source": [
    "claims.dtypes"
   ]
  },
  {
   "cell_type": "code",
   "execution_count": 274,
   "metadata": {},
   "outputs": [],
   "source": [
    "from pyampute.exploration.mcar_statistical_tests import MCARTest\n",
    "mt = MCARTest(method=\"little\")"
   ]
  },
  {
   "cell_type": "code",
   "execution_count": 275,
   "metadata": {},
   "outputs": [],
   "source": [
    "object_columns = claims.select_dtypes(['float64', 'int64'])"
   ]
  },
  {
   "cell_type": "code",
   "execution_count": 277,
   "metadata": {},
   "outputs": [
    {
     "data": {
      "text/html": [
       "<div>\n",
       "<style scoped>\n",
       "    .dataframe tbody tr th:only-of-type {\n",
       "        vertical-align: middle;\n",
       "    }\n",
       "\n",
       "    .dataframe tbody tr th {\n",
       "        vertical-align: top;\n",
       "    }\n",
       "\n",
       "    .dataframe thead th {\n",
       "        text-align: right;\n",
       "    }\n",
       "</style>\n",
       "<table border=\"1\" class=\"dataframe\">\n",
       "  <thead>\n",
       "    <tr style=\"text-align: right;\">\n",
       "      <th></th>\n",
       "      <th>year</th>\n",
       "      <th>pol_no_claims_discount</th>\n",
       "      <th>pol_duration</th>\n",
       "      <th>drv_age1</th>\n",
       "      <th>drv_age_lic1</th>\n",
       "      <th>drv_age2</th>\n",
       "      <th>drv_age_lic2</th>\n",
       "      <th>vh_age</th>\n",
       "      <th>vh_speed</th>\n",
       "      <th>vh_value</th>\n",
       "      <th>vh_weight</th>\n",
       "      <th>population</th>\n",
       "      <th>town_surface_area</th>\n",
       "      <th>claim_amount</th>\n",
       "    </tr>\n",
       "  </thead>\n",
       "  <tbody>\n",
       "    <tr>\n",
       "      <th>0</th>\n",
       "      <td>1</td>\n",
       "      <td>0.00</td>\n",
       "      <td>5</td>\n",
       "      <td>47</td>\n",
       "      <td>22</td>\n",
       "      <td>NaN</td>\n",
       "      <td>NaN</td>\n",
       "      <td>5</td>\n",
       "      <td>200.0</td>\n",
       "      <td>25000.0</td>\n",
       "      <td>1300.0</td>\n",
       "      <td>320</td>\n",
       "      <td>58.3</td>\n",
       "      <td>339.84</td>\n",
       "    </tr>\n",
       "    <tr>\n",
       "      <th>1</th>\n",
       "      <td>1</td>\n",
       "      <td>0.00</td>\n",
       "      <td>27</td>\n",
       "      <td>84</td>\n",
       "      <td>60</td>\n",
       "      <td>NaN</td>\n",
       "      <td>NaN</td>\n",
       "      <td>1</td>\n",
       "      <td>158.0</td>\n",
       "      <td>13390.0</td>\n",
       "      <td>885.0</td>\n",
       "      <td>530</td>\n",
       "      <td>385.6</td>\n",
       "      <td>1236.00</td>\n",
       "    </tr>\n",
       "    <tr>\n",
       "      <th>2</th>\n",
       "      <td>1</td>\n",
       "      <td>0.00</td>\n",
       "      <td>2</td>\n",
       "      <td>37</td>\n",
       "      <td>18</td>\n",
       "      <td>42.0</td>\n",
       "      <td>24.0</td>\n",
       "      <td>4</td>\n",
       "      <td>160.0</td>\n",
       "      <td>2088.0</td>\n",
       "      <td>0.0</td>\n",
       "      <td>960</td>\n",
       "      <td>701.5</td>\n",
       "      <td>224.33</td>\n",
       "    </tr>\n",
       "    <tr>\n",
       "      <th>3</th>\n",
       "      <td>1</td>\n",
       "      <td>0.00</td>\n",
       "      <td>26</td>\n",
       "      <td>48</td>\n",
       "      <td>27</td>\n",
       "      <td>49.0</td>\n",
       "      <td>27.0</td>\n",
       "      <td>1</td>\n",
       "      <td>182.0</td>\n",
       "      <td>11785.0</td>\n",
       "      <td>1080.0</td>\n",
       "      <td>1290</td>\n",
       "      <td>49.8</td>\n",
       "      <td>1343.41</td>\n",
       "    </tr>\n",
       "    <tr>\n",
       "      <th>4</th>\n",
       "      <td>1</td>\n",
       "      <td>0.07</td>\n",
       "      <td>2</td>\n",
       "      <td>26</td>\n",
       "      <td>8</td>\n",
       "      <td>NaN</td>\n",
       "      <td>NaN</td>\n",
       "      <td>3</td>\n",
       "      <td>250.0</td>\n",
       "      <td>25250.0</td>\n",
       "      <td>1450.0</td>\n",
       "      <td>70</td>\n",
       "      <td>30.8</td>\n",
       "      <td>130.23</td>\n",
       "    </tr>\n",
       "  </tbody>\n",
       "</table>\n",
       "</div>"
      ],
      "text/plain": [
       "   year  pol_no_claims_discount  pol_duration  drv_age1  drv_age_lic1  \\\n",
       "0     1                    0.00             5        47            22   \n",
       "1     1                    0.00            27        84            60   \n",
       "2     1                    0.00             2        37            18   \n",
       "3     1                    0.00            26        48            27   \n",
       "4     1                    0.07             2        26             8   \n",
       "\n",
       "   drv_age2  drv_age_lic2  vh_age  vh_speed  vh_value  vh_weight  population  \\\n",
       "0       NaN           NaN       5     200.0   25000.0     1300.0         320   \n",
       "1       NaN           NaN       1     158.0   13390.0      885.0         530   \n",
       "2      42.0          24.0       4     160.0    2088.0        0.0         960   \n",
       "3      49.0          27.0       1     182.0   11785.0     1080.0        1290   \n",
       "4       NaN           NaN       3     250.0   25250.0     1450.0          70   \n",
       "\n",
       "   town_surface_area  claim_amount  \n",
       "0               58.3        339.84  \n",
       "1              385.6       1236.00  \n",
       "2              701.5        224.33  \n",
       "3               49.8       1343.41  \n",
       "4               30.8        130.23  "
      ]
     },
     "execution_count": 277,
     "metadata": {},
     "output_type": "execute_result"
    }
   ],
   "source": [
    "object_columns.head(5)"
   ]
  },
  {
   "cell_type": "code",
   "execution_count": 276,
   "metadata": {},
   "outputs": [
    {
     "name": "stdout",
     "output_type": "stream",
     "text": [
      "0.0\n"
     ]
    }
   ],
   "source": [
    "print(mt(object_columns))"
   ]
  },
  {
   "cell_type": "code",
   "execution_count": 280,
   "metadata": {},
   "outputs": [],
   "source": [
    "from scipy.stats import chi2\n",
    "\n",
    "def little_mcar_test(data, alpha=0.05):\n",
    "    \"\"\"\n",
    "    Performs Little's MCAR (Missing Completely At Random) test on a dataset with missing values.\n",
    "    \"\"\"\n",
    "    data = pd.DataFrame(data)\n",
    "    data.columns = ['x' + str(i) for i in range(data.shape[1])]\n",
    "    data['missing'] = np.sum(data.isnull(), axis=1)\n",
    "    n = data.shape[0]\n",
    "    k = data.shape[1] - 1\n",
    "    df = k * (k - 1) / 2\n",
    "    chi2_crit = chi2.ppf(1 - alpha, df)\n",
    "    chi2_val = ((n - 1 - (k - 1) / 2) ** 2) / (k - 1) / ((n - k) * np.mean(data['missing']))\n",
    "    p_val = 1 - chi2.cdf(chi2_val, df)\n",
    "    if chi2_val > chi2_crit:\n",
    "        print(\n",
    "            'Reject null hypothesis: Data is not MCAR (p-value={:.4f}, chi-square={:.4f})'.format(p_val, chi2_val)\n",
    "        )\n",
    "    else:\n",
    "        print(\n",
    "            'Do not reject null hypothesis: Data is MCAR (p-value={:.4f}, chi-square={:.4f})'.format(p_val, chi2_val)\n",
    "        )"
   ]
  },
  {
   "cell_type": "code",
   "execution_count": 281,
   "metadata": {},
   "outputs": [
    {
     "name": "stdout",
     "output_type": "stream",
     "text": [
      "Reject null hypothesis: Data is not MCAR (p-value=0.0000, chi-square=870.5631)\n",
      "None\n"
     ]
    }
   ],
   "source": [
    "print(little_mcar_test(object_columns))"
   ]
  },
  {
   "cell_type": "markdown",
   "metadata": {},
   "source": [
    "CONCLUSION: Since data is not missing at random, we use KNN to predict missing values before implementing regressor."
   ]
  }
 ],
 "metadata": {
  "kernelspec": {
   "display_name": ".venv",
   "language": "python",
   "name": "python3"
  },
  "language_info": {
   "codemirror_mode": {
    "name": "ipython",
    "version": 3
   },
   "file_extension": ".py",
   "mimetype": "text/x-python",
   "name": "python",
   "nbconvert_exporter": "python",
   "pygments_lexer": "ipython3",
   "version": "3.11.5"
  }
 },
 "nbformat": 4,
 "nbformat_minor": 2
}
