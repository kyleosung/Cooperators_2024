{
 "cells": [
  {
   "cell_type": "code",
   "execution_count": 10,
   "metadata": {},
   "outputs": [
    {
     "name": "stderr",
     "output_type": "stream",
     "text": [
      "C:\\Users\\kyle\\AppData\\Local\\Temp\\ipykernel_11632\\3604394240.py:7: FutureWarning: Downcasting behavior in `replace` is deprecated and will be removed in a future version. To retain the old behavior, explicitly call `result.infer_objects(copy=False)`. To opt-in to the future behavior, set `pd.set_option('future.no_silent_downcasting', True)`\n",
      "  claims['pol_pay_freq'] = claims['pol_pay_freq'].replace( {'Biannual': 2, 'Yearly': 1, 'Monthly': 12, 'Quarterly': 4} )\n",
      "C:\\Users\\kyle\\AppData\\Local\\Temp\\ipykernel_11632\\3604394240.py:8: FutureWarning: Downcasting behavior in `replace` is deprecated and will be removed in a future version. To retain the old behavior, explicitly call `result.infer_objects(copy=False)`. To opt-in to the future behavior, set `pd.set_option('future.no_silent_downcasting', True)`\n",
      "  claims['pol_payd'] = claims['pol_payd'].replace( {'No': 0, 'Yes': 1} )\n",
      "C:\\Users\\kyle\\AppData\\Local\\Temp\\ipykernel_11632\\3604394240.py:9: FutureWarning: Downcasting behavior in `replace` is deprecated and will be removed in a future version. To retain the old behavior, explicitly call `result.infer_objects(copy=False)`. To opt-in to the future behavior, set `pd.set_option('future.no_silent_downcasting', True)`\n",
      "  claims['drv_sex1'] = claims['drv_sex1'].replace( {'M': 1, 'F': 0} )\n",
      "C:\\Users\\kyle\\AppData\\Local\\Temp\\ipykernel_11632\\3604394240.py:10: FutureWarning: Downcasting behavior in `replace` is deprecated and will be removed in a future version. To retain the old behavior, explicitly call `result.infer_objects(copy=False)`. To opt-in to the future behavior, set `pd.set_option('future.no_silent_downcasting', True)`\n",
      "  claims['vh_type'] = claims['vh_type'].replace( {'Tourism': 1, 'Commercial': 0} )\n",
      "C:\\Users\\kyle\\AppData\\Local\\Temp\\ipykernel_11632\\3604394240.py:11: FutureWarning: Downcasting behavior in `replace` is deprecated and will be removed in a future version. To retain the old behavior, explicitly call `result.infer_objects(copy=False)`. To opt-in to the future behavior, set `pd.set_option('future.no_silent_downcasting', True)`\n",
      "  claims['drv_drv2'] = claims['drv_drv2'].replace( {'No': 0, 'Yes': 1} )\n"
     ]
    }
   ],
   "source": [
    "import autograd.numpy as np\n",
    "import pandas as pd\n",
    "from sklearn.feature_extraction.text import HashingVectorizer\n",
    "\n",
    "claims = pd.read_csv(\"./Qualification_Package/Claims_Years_1_to_3.csv\")\n",
    "\n",
    "claims['pol_pay_freq'] = claims['pol_pay_freq'].replace( {'Biannual': 2, 'Yearly': 1, 'Monthly': 12, 'Quarterly': 4} )\n",
    "claims['pol_payd'] = claims['pol_payd'].replace( {'No': 0, 'Yes': 1} )\n",
    "claims['drv_sex1'] = claims['drv_sex1'].replace( {'M': 1, 'F': 0} )\n",
    "claims['vh_type'] = claims['vh_type'].replace( {'Tourism': 1, 'Commercial': 0} )\n",
    "claims['drv_drv2'] = claims['drv_drv2'].replace( {'No': 0, 'Yes': 1} )\n",
    "\n",
    "claims['vh_make_model'] = claims['vh_make_model'].apply(hash)\n",
    "\n"
   ]
  },
  {
   "cell_type": "code",
   "execution_count": 12,
   "metadata": {},
   "outputs": [
    {
     "data": {
      "text/plain": [
       "dtype('int64')"
      ]
     },
     "execution_count": 12,
     "metadata": {},
     "output_type": "execute_result"
    }
   ],
   "source": [
    "claims['vh_make_model'].dtype"
   ]
  },
  {
   "cell_type": "code",
   "execution_count": null,
   "metadata": {},
   "outputs": [],
   "source": [
    "claims['vh_make_model'] = vectorizer.fit_transform(claims['vh_make_model'])\n",
    "\n",
    "objects = claims.select_dtypes(['object'])\n",
    "categorical = claims.select_dtypes(['int64'])\n",
    "continuous = claims.select_dtypes(['float64'])\n",
    "\n",
    "objects_filled = SimpleImputer(missing_values=np.nan, strategy='most_frequent').fit_transform(objects)\n",
    "categorial_filled = SimpleImputer(missing_values=np.nan, strategy='median').fit_transform(categorical)\n",
    "continuous_filled = SimpleImputer(missing_values=np.nan, strategy='mean').fit_transform(continuous)\n",
    "\n",
    "objects_filled = pd.DataFrame(objects_filled, columns=objects.columns.to_list())\n",
    "categorial_filled = pd.DataFrame(categorial_filled, columns=categorical.columns.to_list())\n",
    "continuous_filled = pd.DataFrame(continuous_filled, columns=continuous.columns.to_list())"
   ]
  }
 ],
 "metadata": {
  "kernelspec": {
   "display_name": ".venv",
   "language": "python",
   "name": "python3"
  },
  "language_info": {
   "codemirror_mode": {
    "name": "ipython",
    "version": 3
   },
   "file_extension": ".py",
   "mimetype": "text/x-python",
   "name": "python",
   "nbconvert_exporter": "python",
   "pygments_lexer": "ipython3",
   "version": "3.11.5"
  }
 },
 "nbformat": 4,
 "nbformat_minor": 2
}
