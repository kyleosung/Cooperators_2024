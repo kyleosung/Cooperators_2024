{
 "cells": [
  {
   "cell_type": "code",
   "execution_count": 206,
   "metadata": {},
   "outputs": [],
   "source": [
    "%%capture\n",
    "#### Load Libraries (without cell output)\n",
    "\n",
    "import autograd.numpy as np # import autograd wrapped numpy\n",
    "import pandas as pd\n",
    "import matplotlib.pyplot as plt\n",
    "\n",
    "import seaborn as sns\n",
    "import sklearn\n",
    "from sklearn.tree import DecisionTreeRegressor, DecisionTreeClassifier\n",
    "from sklearn.model_selection import train_test_split\n",
    "from sklearn import neighbors, metrics\n",
    "from sklearn.preprocessing import scale\n",
    "\n",
    "import statsmodels.api as sm\n",
    "from statsmodels.genmod.generalized_linear_model import GLM\n",
    "from statsmodels.genmod.families import Gamma"
   ]
  },
  {
   "cell_type": "code",
   "execution_count": 207,
   "metadata": {},
   "outputs": [
    {
     "name": "stdout",
     "output_type": "stream",
     "text": [
      "1187.758451280604\n",
      "(14173, 24)\n"
     ]
    }
   ],
   "source": [
    "claims = pd.read_csv(\"./Qualification_Package/Claims_Years_1_to_3.csv\")\n",
    "print(claims['claim_amount'].mean())\n",
    "\n",
    "print(claims.shape)"
   ]
  },
  {
   "cell_type": "code",
   "execution_count": 208,
   "metadata": {},
   "outputs": [
    {
     "name": "stderr",
     "output_type": "stream",
     "text": [
      "C:\\Users\\kyle\\AppData\\Local\\Temp\\ipykernel_8032\\166129329.py:1: FutureWarning: Downcasting behavior in `replace` is deprecated and will be removed in a future version. To retain the old behavior, explicitly call `result.infer_objects(copy=False)`. To opt-in to the future behavior, set `pd.set_option('future.no_silent_downcasting', True)`\n",
      "  claims['pol_pay_freq'] = claims['pol_pay_freq'].replace( {'Biannual': 2, 'Yearly': 1, 'Monthly': 12, 'Quarterly': 4} )\n",
      "C:\\Users\\kyle\\AppData\\Local\\Temp\\ipykernel_8032\\166129329.py:2: FutureWarning: Downcasting behavior in `replace` is deprecated and will be removed in a future version. To retain the old behavior, explicitly call `result.infer_objects(copy=False)`. To opt-in to the future behavior, set `pd.set_option('future.no_silent_downcasting', True)`\n",
      "  claims['pol_payd'] = claims['pol_payd'].replace( {'No': 0, 'Yes': 1} )\n",
      "C:\\Users\\kyle\\AppData\\Local\\Temp\\ipykernel_8032\\166129329.py:3: FutureWarning: Downcasting behavior in `replace` is deprecated and will be removed in a future version. To retain the old behavior, explicitly call `result.infer_objects(copy=False)`. To opt-in to the future behavior, set `pd.set_option('future.no_silent_downcasting', True)`\n",
      "  claims['drv_sex1'] = claims['drv_sex1'].replace( {'M': 1, 'F': 0} )\n",
      "C:\\Users\\kyle\\AppData\\Local\\Temp\\ipykernel_8032\\166129329.py:4: FutureWarning: Downcasting behavior in `replace` is deprecated and will be removed in a future version. To retain the old behavior, explicitly call `result.infer_objects(copy=False)`. To opt-in to the future behavior, set `pd.set_option('future.no_silent_downcasting', True)`\n",
      "  claims['vh_type'] = claims['vh_type'].replace( {'Tourism': 1, 'Commercial': 0} )\n",
      "C:\\Users\\kyle\\AppData\\Local\\Temp\\ipykernel_8032\\166129329.py:5: FutureWarning: Downcasting behavior in `replace` is deprecated and will be removed in a future version. To retain the old behavior, explicitly call `result.infer_objects(copy=False)`. To opt-in to the future behavior, set `pd.set_option('future.no_silent_downcasting', True)`\n",
      "  claims['drv_drv2'] = claims['drv_drv2'].replace( {'No': 0, 'Yes': 1} )\n"
     ]
    }
   ],
   "source": [
    "claims['pol_pay_freq'] = claims['pol_pay_freq'].replace( {'Biannual': 2, 'Yearly': 1, 'Monthly': 12, 'Quarterly': 4} )\n",
    "claims['pol_payd'] = claims['pol_payd'].replace( {'No': 0, 'Yes': 1} )\n",
    "claims['drv_sex1'] = claims['drv_sex1'].replace( {'M': 1, 'F': 0} )\n",
    "claims['vh_type'] = claims['vh_type'].replace( {'Tourism': 1, 'Commercial': 0} )\n",
    "claims['drv_drv2'] = claims['drv_drv2'].replace( {'No': 0, 'Yes': 1} )"
   ]
  },
  {
   "cell_type": "code",
   "execution_count": 209,
   "metadata": {},
   "outputs": [
    {
     "name": "stdout",
     "output_type": "stream",
     "text": [
      "id_policy                  object\n",
      "year                        int64\n",
      "pol_no_claims_discount    float64\n",
      "pol_duration                int64\n",
      "pol_pay_freq                int64\n",
      "pol_payd                    int64\n",
      "pol_usage                  object\n",
      "drv_sex1                    int64\n",
      "drv_age1                    int64\n",
      "drv_age_lic1                int64\n",
      "drv_drv2                    int64\n",
      "drv_sex2                   object\n",
      "drv_age2                  float64\n",
      "drv_age_lic2              float64\n",
      "vh_make_model              object\n",
      "vh_age                      int64\n",
      "vh_fuel                    object\n",
      "vh_type                     int64\n",
      "vh_speed                  float64\n",
      "vh_value                  float64\n",
      "vh_weight                 float64\n",
      "population                  int64\n",
      "town_surface_area         float64\n",
      "claim_amount              float64\n",
      "dtype: object\n",
      "['id_policy', 'year', 'pol_no_claims_discount', 'pol_duration', 'pol_pay_freq', 'pol_payd', 'pol_usage', 'drv_sex1', 'drv_age1', 'drv_age_lic1', 'drv_drv2', 'drv_sex2', 'drv_age2', 'drv_age_lic2', 'vh_make_model', 'vh_age', 'vh_fuel', 'vh_type', 'vh_speed', 'vh_value', 'vh_weight', 'population', 'town_surface_area', 'claim_amount']\n"
     ]
    }
   ],
   "source": [
    "print(claims.dtypes)\n",
    "print(claims.columns.to_list())\n"
   ]
  },
  {
   "cell_type": "code",
   "execution_count": 210,
   "metadata": {},
   "outputs": [],
   "source": [
    "objects = claims.select_dtypes(['object'])\n",
    "categorical = claims.select_dtypes(['int64'])\n",
    "continuous = claims.select_dtypes(['float64'])"
   ]
  },
  {
   "cell_type": "code",
   "execution_count": 211,
   "metadata": {},
   "outputs": [],
   "source": [
    "from sklearn.impute import SimpleImputer\n",
    "\n",
    "objects_filled = SimpleImputer(missing_values=np.nan, strategy='most_frequent').fit_transform(objects)\n",
    "categorial_filled = SimpleImputer(missing_values=np.nan, strategy='median').fit_transform(categorical)\n",
    "continuous_filled = SimpleImputer(missing_values=np.nan, strategy='mean').fit_transform(continuous)\n",
    "\n",
    "objects_filled = pd.DataFrame(objects_filled, columns=objects.columns.to_list())\n",
    "categorial_filled = pd.DataFrame(categorial_filled, columns=categorical.columns.to_list())\n",
    "continuous_filled = pd.DataFrame(continuous_filled, columns=continuous.columns.to_list())"
   ]
  },
  {
   "cell_type": "code",
   "execution_count": 212,
   "metadata": {},
   "outputs": [],
   "source": [
    "design_matrix = pd.get_dummies(objects_filled, columns=['vh_make_model', 'pol_usage', 'drv_sex2', 'vh_fuel'], dtype=int)\n",
    "design_matrix\n",
    "\n",
    "objects_design = design_matrix.drop(columns=['id_policy'])"
   ]
  },
  {
   "cell_type": "code",
   "execution_count": 213,
   "metadata": {},
   "outputs": [],
   "source": [
    "df = pd.concat([objects_design, categorial_filled, continuous_filled], axis = 1)"
   ]
  },
  {
   "cell_type": "code",
   "execution_count": 214,
   "metadata": {},
   "outputs": [
    {
     "name": "stdout",
     "output_type": "stream",
     "text": [
      "(14173, 498)\n"
     ]
    },
    {
     "data": {
      "text/html": [
       "<div>\n",
       "<style scoped>\n",
       "    .dataframe tbody tr th:only-of-type {\n",
       "        vertical-align: middle;\n",
       "    }\n",
       "\n",
       "    .dataframe tbody tr th {\n",
       "        vertical-align: top;\n",
       "    }\n",
       "\n",
       "    .dataframe thead th {\n",
       "        text-align: right;\n",
       "    }\n",
       "</style>\n",
       "<table border=\"1\" class=\"dataframe\">\n",
       "  <thead>\n",
       "    <tr style=\"text-align: right;\">\n",
       "      <th></th>\n",
       "      <th>vh_make_model_aawqanlavsjfqrne</th>\n",
       "      <th>vh_make_model_abacekzzrkhtgpcp</th>\n",
       "      <th>vh_make_model_abcepdrvvynjsufa</th>\n",
       "      <th>vh_make_model_aceqpjprqgzhffuw</th>\n",
       "      <th>vh_make_model_adhoqfsfdpetomvs</th>\n",
       "      <th>vh_make_model_adzzjitkyqlberpu</th>\n",
       "      <th>vh_make_model_aewtdnpoiopumymt</th>\n",
       "      <th>vh_make_model_aifsqdniwqmcuqpv</th>\n",
       "      <th>vh_make_model_aivacsqryguqpdib</th>\n",
       "      <th>vh_make_model_ajktbllxjzfdtwpy</th>\n",
       "      <th>...</th>\n",
       "      <th>vh_type</th>\n",
       "      <th>population</th>\n",
       "      <th>pol_no_claims_discount</th>\n",
       "      <th>drv_age2</th>\n",
       "      <th>drv_age_lic2</th>\n",
       "      <th>vh_speed</th>\n",
       "      <th>vh_value</th>\n",
       "      <th>vh_weight</th>\n",
       "      <th>town_surface_area</th>\n",
       "      <th>claim_amount</th>\n",
       "    </tr>\n",
       "  </thead>\n",
       "  <tbody>\n",
       "    <tr>\n",
       "      <th>0</th>\n",
       "      <td>0</td>\n",
       "      <td>0</td>\n",
       "      <td>0</td>\n",
       "      <td>0</td>\n",
       "      <td>0</td>\n",
       "      <td>0</td>\n",
       "      <td>0</td>\n",
       "      <td>0</td>\n",
       "      <td>0</td>\n",
       "      <td>0</td>\n",
       "      <td>...</td>\n",
       "      <td>1.0</td>\n",
       "      <td>320.0</td>\n",
       "      <td>0.000</td>\n",
       "      <td>48.031279</td>\n",
       "      <td>26.131633</td>\n",
       "      <td>200.0</td>\n",
       "      <td>25000.0</td>\n",
       "      <td>1300.0</td>\n",
       "      <td>58.3</td>\n",
       "      <td>339.84</td>\n",
       "    </tr>\n",
       "    <tr>\n",
       "      <th>1</th>\n",
       "      <td>0</td>\n",
       "      <td>0</td>\n",
       "      <td>0</td>\n",
       "      <td>0</td>\n",
       "      <td>0</td>\n",
       "      <td>0</td>\n",
       "      <td>0</td>\n",
       "      <td>0</td>\n",
       "      <td>0</td>\n",
       "      <td>0</td>\n",
       "      <td>...</td>\n",
       "      <td>1.0</td>\n",
       "      <td>530.0</td>\n",
       "      <td>0.000</td>\n",
       "      <td>48.031279</td>\n",
       "      <td>26.131633</td>\n",
       "      <td>158.0</td>\n",
       "      <td>13390.0</td>\n",
       "      <td>885.0</td>\n",
       "      <td>385.6</td>\n",
       "      <td>1236.00</td>\n",
       "    </tr>\n",
       "    <tr>\n",
       "      <th>2</th>\n",
       "      <td>0</td>\n",
       "      <td>0</td>\n",
       "      <td>0</td>\n",
       "      <td>0</td>\n",
       "      <td>0</td>\n",
       "      <td>0</td>\n",
       "      <td>0</td>\n",
       "      <td>0</td>\n",
       "      <td>0</td>\n",
       "      <td>0</td>\n",
       "      <td>...</td>\n",
       "      <td>1.0</td>\n",
       "      <td>960.0</td>\n",
       "      <td>0.000</td>\n",
       "      <td>42.000000</td>\n",
       "      <td>24.000000</td>\n",
       "      <td>160.0</td>\n",
       "      <td>2088.0</td>\n",
       "      <td>0.0</td>\n",
       "      <td>701.5</td>\n",
       "      <td>224.33</td>\n",
       "    </tr>\n",
       "    <tr>\n",
       "      <th>3</th>\n",
       "      <td>0</td>\n",
       "      <td>0</td>\n",
       "      <td>0</td>\n",
       "      <td>0</td>\n",
       "      <td>0</td>\n",
       "      <td>0</td>\n",
       "      <td>0</td>\n",
       "      <td>0</td>\n",
       "      <td>0</td>\n",
       "      <td>0</td>\n",
       "      <td>...</td>\n",
       "      <td>1.0</td>\n",
       "      <td>1290.0</td>\n",
       "      <td>0.000</td>\n",
       "      <td>49.000000</td>\n",
       "      <td>27.000000</td>\n",
       "      <td>182.0</td>\n",
       "      <td>11785.0</td>\n",
       "      <td>1080.0</td>\n",
       "      <td>49.8</td>\n",
       "      <td>1343.41</td>\n",
       "    </tr>\n",
       "    <tr>\n",
       "      <th>4</th>\n",
       "      <td>0</td>\n",
       "      <td>0</td>\n",
       "      <td>0</td>\n",
       "      <td>0</td>\n",
       "      <td>0</td>\n",
       "      <td>0</td>\n",
       "      <td>0</td>\n",
       "      <td>0</td>\n",
       "      <td>0</td>\n",
       "      <td>0</td>\n",
       "      <td>...</td>\n",
       "      <td>1.0</td>\n",
       "      <td>70.0</td>\n",
       "      <td>0.070</td>\n",
       "      <td>48.031279</td>\n",
       "      <td>26.131633</td>\n",
       "      <td>250.0</td>\n",
       "      <td>25250.0</td>\n",
       "      <td>1450.0</td>\n",
       "      <td>30.8</td>\n",
       "      <td>130.23</td>\n",
       "    </tr>\n",
       "    <tr>\n",
       "      <th>5</th>\n",
       "      <td>0</td>\n",
       "      <td>0</td>\n",
       "      <td>0</td>\n",
       "      <td>0</td>\n",
       "      <td>0</td>\n",
       "      <td>0</td>\n",
       "      <td>0</td>\n",
       "      <td>0</td>\n",
       "      <td>0</td>\n",
       "      <td>0</td>\n",
       "      <td>...</td>\n",
       "      <td>1.0</td>\n",
       "      <td>10.0</td>\n",
       "      <td>0.000</td>\n",
       "      <td>34.000000</td>\n",
       "      <td>14.000000</td>\n",
       "      <td>158.0</td>\n",
       "      <td>13390.0</td>\n",
       "      <td>885.0</td>\n",
       "      <td>52.9</td>\n",
       "      <td>390.03</td>\n",
       "    </tr>\n",
       "    <tr>\n",
       "      <th>6</th>\n",
       "      <td>0</td>\n",
       "      <td>0</td>\n",
       "      <td>0</td>\n",
       "      <td>0</td>\n",
       "      <td>0</td>\n",
       "      <td>0</td>\n",
       "      <td>0</td>\n",
       "      <td>0</td>\n",
       "      <td>0</td>\n",
       "      <td>0</td>\n",
       "      <td>...</td>\n",
       "      <td>1.0</td>\n",
       "      <td>240.0</td>\n",
       "      <td>0.000</td>\n",
       "      <td>58.000000</td>\n",
       "      <td>39.000000</td>\n",
       "      <td>168.0</td>\n",
       "      <td>11876.0</td>\n",
       "      <td>1225.0</td>\n",
       "      <td>103.7</td>\n",
       "      <td>699.54</td>\n",
       "    </tr>\n",
       "    <tr>\n",
       "      <th>7</th>\n",
       "      <td>0</td>\n",
       "      <td>0</td>\n",
       "      <td>0</td>\n",
       "      <td>0</td>\n",
       "      <td>0</td>\n",
       "      <td>0</td>\n",
       "      <td>0</td>\n",
       "      <td>0</td>\n",
       "      <td>0</td>\n",
       "      <td>0</td>\n",
       "      <td>...</td>\n",
       "      <td>1.0</td>\n",
       "      <td>1980.0</td>\n",
       "      <td>0.000</td>\n",
       "      <td>48.031279</td>\n",
       "      <td>26.131633</td>\n",
       "      <td>170.0</td>\n",
       "      <td>11129.0</td>\n",
       "      <td>927.0</td>\n",
       "      <td>218.2</td>\n",
       "      <td>381.15</td>\n",
       "    </tr>\n",
       "    <tr>\n",
       "      <th>8</th>\n",
       "      <td>0</td>\n",
       "      <td>0</td>\n",
       "      <td>0</td>\n",
       "      <td>0</td>\n",
       "      <td>0</td>\n",
       "      <td>0</td>\n",
       "      <td>0</td>\n",
       "      <td>0</td>\n",
       "      <td>0</td>\n",
       "      <td>0</td>\n",
       "      <td>...</td>\n",
       "      <td>0.0</td>\n",
       "      <td>1300.0</td>\n",
       "      <td>0.319</td>\n",
       "      <td>48.031279</td>\n",
       "      <td>26.131633</td>\n",
       "      <td>148.0</td>\n",
       "      <td>16702.0</td>\n",
       "      <td>1350.0</td>\n",
       "      <td>53.0</td>\n",
       "      <td>87.53</td>\n",
       "    </tr>\n",
       "    <tr>\n",
       "      <th>9</th>\n",
       "      <td>0</td>\n",
       "      <td>0</td>\n",
       "      <td>0</td>\n",
       "      <td>0</td>\n",
       "      <td>0</td>\n",
       "      <td>0</td>\n",
       "      <td>0</td>\n",
       "      <td>0</td>\n",
       "      <td>0</td>\n",
       "      <td>0</td>\n",
       "      <td>...</td>\n",
       "      <td>1.0</td>\n",
       "      <td>390.0</td>\n",
       "      <td>0.000</td>\n",
       "      <td>34.000000</td>\n",
       "      <td>16.000000</td>\n",
       "      <td>200.0</td>\n",
       "      <td>25000.0</td>\n",
       "      <td>1300.0</td>\n",
       "      <td>396.5</td>\n",
       "      <td>670.91</td>\n",
       "    </tr>\n",
       "  </tbody>\n",
       "</table>\n",
       "<p>10 rows × 498 columns</p>\n",
       "</div>"
      ],
      "text/plain": [
       "   vh_make_model_aawqanlavsjfqrne  vh_make_model_abacekzzrkhtgpcp  \\\n",
       "0                               0                               0   \n",
       "1                               0                               0   \n",
       "2                               0                               0   \n",
       "3                               0                               0   \n",
       "4                               0                               0   \n",
       "5                               0                               0   \n",
       "6                               0                               0   \n",
       "7                               0                               0   \n",
       "8                               0                               0   \n",
       "9                               0                               0   \n",
       "\n",
       "   vh_make_model_abcepdrvvynjsufa  vh_make_model_aceqpjprqgzhffuw  \\\n",
       "0                               0                               0   \n",
       "1                               0                               0   \n",
       "2                               0                               0   \n",
       "3                               0                               0   \n",
       "4                               0                               0   \n",
       "5                               0                               0   \n",
       "6                               0                               0   \n",
       "7                               0                               0   \n",
       "8                               0                               0   \n",
       "9                               0                               0   \n",
       "\n",
       "   vh_make_model_adhoqfsfdpetomvs  vh_make_model_adzzjitkyqlberpu  \\\n",
       "0                               0                               0   \n",
       "1                               0                               0   \n",
       "2                               0                               0   \n",
       "3                               0                               0   \n",
       "4                               0                               0   \n",
       "5                               0                               0   \n",
       "6                               0                               0   \n",
       "7                               0                               0   \n",
       "8                               0                               0   \n",
       "9                               0                               0   \n",
       "\n",
       "   vh_make_model_aewtdnpoiopumymt  vh_make_model_aifsqdniwqmcuqpv  \\\n",
       "0                               0                               0   \n",
       "1                               0                               0   \n",
       "2                               0                               0   \n",
       "3                               0                               0   \n",
       "4                               0                               0   \n",
       "5                               0                               0   \n",
       "6                               0                               0   \n",
       "7                               0                               0   \n",
       "8                               0                               0   \n",
       "9                               0                               0   \n",
       "\n",
       "   vh_make_model_aivacsqryguqpdib  vh_make_model_ajktbllxjzfdtwpy  ...  \\\n",
       "0                               0                               0  ...   \n",
       "1                               0                               0  ...   \n",
       "2                               0                               0  ...   \n",
       "3                               0                               0  ...   \n",
       "4                               0                               0  ...   \n",
       "5                               0                               0  ...   \n",
       "6                               0                               0  ...   \n",
       "7                               0                               0  ...   \n",
       "8                               0                               0  ...   \n",
       "9                               0                               0  ...   \n",
       "\n",
       "   vh_type  population  pol_no_claims_discount   drv_age2  drv_age_lic2  \\\n",
       "0      1.0       320.0                   0.000  48.031279     26.131633   \n",
       "1      1.0       530.0                   0.000  48.031279     26.131633   \n",
       "2      1.0       960.0                   0.000  42.000000     24.000000   \n",
       "3      1.0      1290.0                   0.000  49.000000     27.000000   \n",
       "4      1.0        70.0                   0.070  48.031279     26.131633   \n",
       "5      1.0        10.0                   0.000  34.000000     14.000000   \n",
       "6      1.0       240.0                   0.000  58.000000     39.000000   \n",
       "7      1.0      1980.0                   0.000  48.031279     26.131633   \n",
       "8      0.0      1300.0                   0.319  48.031279     26.131633   \n",
       "9      1.0       390.0                   0.000  34.000000     16.000000   \n",
       "\n",
       "   vh_speed  vh_value  vh_weight  town_surface_area  claim_amount  \n",
       "0     200.0   25000.0     1300.0               58.3        339.84  \n",
       "1     158.0   13390.0      885.0              385.6       1236.00  \n",
       "2     160.0    2088.0        0.0              701.5        224.33  \n",
       "3     182.0   11785.0     1080.0               49.8       1343.41  \n",
       "4     250.0   25250.0     1450.0               30.8        130.23  \n",
       "5     158.0   13390.0      885.0               52.9        390.03  \n",
       "6     168.0   11876.0     1225.0              103.7        699.54  \n",
       "7     170.0   11129.0      927.0              218.2        381.15  \n",
       "8     148.0   16702.0     1350.0               53.0         87.53  \n",
       "9     200.0   25000.0     1300.0              396.5        670.91  \n",
       "\n",
       "[10 rows x 498 columns]"
      ]
     },
     "execution_count": 214,
     "metadata": {},
     "output_type": "execute_result"
    }
   ],
   "source": [
    "print(df.shape)\n",
    "df.head(10)\n"
   ]
  },
  {
   "cell_type": "code",
   "execution_count": 215,
   "metadata": {},
   "outputs": [],
   "source": [
    "x = df.iloc[:,:-1]\n",
    "y = df.iloc[:,-1]"
   ]
  },
  {
   "cell_type": "code",
   "execution_count": 216,
   "metadata": {},
   "outputs": [],
   "source": [
    "x_train, x_test, y_train, y_test = train_test_split(\n",
    "    x,\n",
    "    y, \n",
    "    test_size = 0.25, # train is 75%, test is 25% \n",
    "    random_state = 0, # stratify = y,\n",
    ")"
   ]
  },
  {
   "cell_type": "code",
   "execution_count": 217,
   "metadata": {},
   "outputs": [],
   "source": [
    "#### Calculate RMSE for predictions\n",
    "def RMSE(x, y):\n",
    "    MSE = ((y - x) ** 2).mean()\n",
    "    return np.sqrt(MSE)\n",
    "\n",
    "# This benchmark RMSE is 2193.342.\n",
    "# We must iterate from here to get a better model, either with GLM, machine learning, or something else."
   ]
  },
  {
   "cell_type": "code",
   "execution_count": 218,
   "metadata": {},
   "outputs": [
    {
     "data": {
      "text/plain": [
       "{'squared_error_best': 1974.72,\n",
       " 'squared_error_random': 2516.824,\n",
       " 'friedman_mse_best': 1937.637,\n",
       " 'friedman_mse_random': 2108.74,\n",
       " 'absolute_error_best': 2652.159,\n",
       " 'absolute_error_random': 2567.09,\n",
       " 'poisson_best': 1960.4,\n",
       " 'poisson_random': 2011.287}"
      ]
     },
     "execution_count": 218,
     "metadata": {},
     "output_type": "execute_result"
    }
   ],
   "source": [
    "from sklearn.tree import DecisionTreeRegressor\n",
    "\n",
    "from joblib import dump, load\n",
    "\n",
    "evaluation = {}\n",
    "\n",
    "for crit in ['squared_error', 'friedman_mse', 'absolute_error', 'poisson']:\n",
    "    for split in ['best', 'random']:\n",
    "        tree = DecisionTreeRegressor(criterion=crit, splitter=split, random_state=0)\n",
    "        tree.fit(x_train, y_train)\n",
    "        y_pred = tree.predict(x_test)\n",
    "        err = round(np.sqrt(metrics.mean_squared_error(y_test, y_pred)), 3) # calculate RMSE\n",
    "        evaluation[crit + '_' + split] = err\n",
    "\n",
    "        dump(tree, 'models/dtr_' + crit + '_' + split)\n",
    "\n",
    "evaluation\n"
   ]
  },
  {
   "cell_type": "markdown",
   "metadata": {},
   "source": [
    "{'squared_error_best': 1974.72,  \n",
    " 'squared_error_random': 2516.824,  \n",
    " 'friedman_mse_best': 1937.637,  \n",
    " 'friedman_mse_random': 2108.74,  \n",
    " 'absolute_error_best': 2652.159,  \n",
    " 'absolute_error_random': 2567.09,  \n",
    " 'poisson_best': 1960.4,  \n",
    " 'poisson_random': 2011.287}"
   ]
  },
  {
   "cell_type": "markdown",
   "metadata": {},
   "source": [
    "Tree finds that the smallest error of the model is using the ``friedman_mse`` with RMSE of ``1937.637``. This is only slightly better than benchmark RMSE of ``2193.342``."
   ]
  },
  {
   "cell_type": "code",
   "execution_count": 219,
   "metadata": {},
   "outputs": [],
   "source": [
    "k_range = range(1, 40)\n",
    "scores_r = [] \n",
    "\n",
    "for k in k_range:\n",
    "    knn_r = neighbors.KNeighborsRegressor(n_neighbors=k)\n",
    "    knn_r.fit(x_train, y_train)\n",
    "    y_r_pred = knn_r.predict(x_test)\n",
    "    scores_r.append(round(np.sqrt(metrics.mean_squared_error(y_test, y_r_pred)), 2))\n",
    "    dump(knn_r, f'models/knn_{k}')"
   ]
  },
  {
   "cell_type": "code",
   "execution_count": 220,
   "metadata": {},
   "outputs": [
    {
     "name": "stdout",
     "output_type": "stream",
     "text": [
      "{1: 2036.15, 2: 1711.93, 3: 1607.59, 4: 1564.84, 5: 1569.29, 6: 1553.37, 7: 1530.49, 8: 1530.11, 9: 1518.64, 10: 1510.67, 11: 1504.14, 12: 1500.12, 13: 1495.41, 14: 1490.34, 15: 1486.09, 16: 1481.07, 17: 1478.32, 18: 1476.8, 19: 1473.54, 20: 1470.76, 21: 1469.23, 22: 1466.91, 23: 1466.75, 24: 1466.45, 25: 1468.02, 26: 1466.29, 27: 1466.02, 28: 1465.43, 29: 1463.68, 30: 1461.29, 31: 1461.75, 32: 1461.61, 33: 1461.63, 34: 1461.4, 35: 1464.1, 36: 1464.59, 37: 1463.44, 38: 1462.96, 39: 1463.33}\n",
      "1461.29\n"
     ]
    }
   ],
   "source": [
    "dict_knn = {i: scores_r[i-1] for i in k_range}\n",
    "print(dict_knn)\n",
    "print(min(dict_knn.values()))"
   ]
  },
  {
   "cell_type": "code",
   "execution_count": 221,
   "metadata": {},
   "outputs": [
    {
     "data": {
      "image/png": "[encoded data removed]",
      "text/plain": [
       "<Figure size 640x480 with 1 Axes>"
      ]
     },
     "metadata": {},
     "output_type": "display_data"
    },
    {
     "name": "stdout",
     "output_type": "stream",
     "text": [
      "{(15, 1486.09), (27, 1466.02), (33, 1461.63), (1, 2036.15), (37, 1463.44), (38, 1462.96), (39, 1463.33), (14, 1490.34), (16, 1481.07), (29, 1463.68), (20, 1470.76), (5, 1569.29), (24, 1466.45), (7, 1530.49), (25, 1468.02), (11, 1504.14), (30, 1461.29), (4, 1564.84), (12, 1500.12), (10, 1510.67), (19, 1473.54), (32, 1461.61), (13, 1495.41), (17, 1478.32), (18, 1476.8), (21, 1469.23), (26, 1466.29), (34, 1461.4), (36, 1464.59), (31, 1461.75), (35, 1464.1), (23, 1466.75), (3, 1607.59), (6, 1553.37), (28, 1465.43), (9, 1518.64), (22, 1466.91), (8, 1530.11), (2, 1711.93)}\n"
     ]
    }
   ],
   "source": [
    "plt.plot(k_range, scores_r)\n",
    "plt.title('KNN: RMSE vs Value of K')\n",
    "plt.xlabel(r'$K$')\n",
    "plt.ylabel('RMSE')\n",
    "plt.xticks(k_range)\n",
    "plt.show()\n",
    "\n",
    "print(set(zip(k_range, scores_r)))"
   ]
  },
  {
   "cell_type": "markdown",
   "metadata": {},
   "source": [
    "```{1: 2036.15, 2: 1711.93, 3: 1607.59, 4: 1564.84, 5: 1569.29, 6: 1553.37, 7: 1530.49, 8: 1530.11, 9: 1518.64, 10: 1510.67, 11: 1504.14, 12: 1500.12, 13: 1495.41, 14: 1490.34, 15: 1486.09, 16: 1481.07, 17: 1478.32, 18: 1476.8, 19: 1473.54, 20: 1470.76, 21: 1469.23, 22: 1466.91, 23: 1466.75, 24: 1466.45, 25: 1468.02, 26: 1466.29, 27: 1466.02, 28: 1465.43, 29: 1463.68, 30: 1461.29, 31: 1461.75, 32: 1461.61, 33: 1461.63, 34: 1461.4, 35: 1464.1, 36: 1464.59, 37: 1463.44, 38: 1462.96, 39: 1463.33}```\n",
    "\n",
    "Minimum Error: $K=30$, $RMSE=1461.29$"
   ]
  },
  {
   "cell_type": "code",
   "execution_count": 222,
   "metadata": {},
   "outputs": [
    {
     "name": "stdout",
     "output_type": "stream",
     "text": [
      "1511.2670015368394\n"
     ]
    }
   ],
   "source": [
    "from sklearn import svm\n",
    "\n",
    "support = svm.SVR()\n",
    "support.fit(x_train, y_train)\n",
    "y_pred_svm = support.predict(x_test)\n",
    "\n",
    "print(RMSE(y_pred_svm, y_test))"
   ]
  },
  {
   "cell_type": "markdown",
   "metadata": {},
   "source": [
    "SVM: Minimum Error $RMSE=1511.267$."
   ]
  },
  {
   "cell_type": "code",
   "execution_count": 223,
   "metadata": {},
   "outputs": [
    {
     "name": "stdout",
     "output_type": "stream",
     "text": [
      "956.7091612588888\n"
     ]
    }
   ],
   "source": [
    "from sklearn.linear_model import LinearRegression\n",
    "from sklearn.ensemble import RandomForestRegressor\n",
    "from sklearn.ensemble import VotingRegressor\n",
    "from sklearn.neighbors import KNeighborsRegressor\n",
    "\n",
    "r1 = DecisionTreeRegressor(criterion='squared_error', splitter='best', random_state=0)\n",
    "r2 = KNeighborsRegressor(n_neighbors=30)\n",
    "r3 = svm.SVR()\n",
    "\n",
    "er = VotingRegressor([('dt', r1), ('kn', r2), ('sv', r3)])\n",
    "\n",
    "er.fit(x, y)\n",
    "\n",
    "y_pred = er.predict(x_test)\n",
    "\n",
    "print(RMSE(y_pred, y_test))"
   ]
  },
  {
   "cell_type": "markdown",
   "metadata": {},
   "source": [
    "Best result using Voting Regressor (combine DTR, KNN, SVM), is ``956.709``."
   ]
  },
  {
   "cell_type": "markdown",
   "metadata": {},
   "source": [
    "Plotting all from voting regressor (see below)"
   ]
  },
  {
   "cell_type": "code",
   "execution_count": 224,
   "metadata": {},
   "outputs": [],
   "source": [
    "xt = x[:20]\n",
    "\n",
    "r1.fit(x, y)\n",
    "r2.fit(x, y)\n",
    "r3.fit(x, y)\n",
    "\n",
    "pred1 = r1.predict(xt)\n",
    "pred2 = r2.predict(xt)\n",
    "pred3 = r3.predict(xt)\n",
    "pred4 = er.predict(xt)"
   ]
  },
  {
   "cell_type": "code",
   "execution_count": 225,
   "metadata": {},
   "outputs": [
    {
     "data": {
      "image/png": "[encoded data removed]",
      "text/plain": [
       "<Figure size 640x480 with 1 Axes>"
      ]
     },
     "metadata": {},
     "output_type": "display_data"
    }
   ],
   "source": [
    "plt.figure()\n",
    "plt.plot(pred1, \"gd\", label=\"GradientBoostingRegressor\")\n",
    "plt.plot(pred2, \"b^\", label=\"RandomForestRegressor\")\n",
    "plt.plot(pred3, \"ys\", label=\"LinearRegression\")\n",
    "plt.plot(pred4, \"r*\", ms=10, label=\"VotingRegressor\")\n",
    "\n",
    "plt.tick_params(axis=\"x\", which=\"both\", bottom=False, top=False, labelbottom=False)\n",
    "plt.ylabel(\"predicted\")\n",
    "plt.xlabel(\"training samples\")\n",
    "plt.legend(loc=\"best\")\n",
    "plt.title(\"Regressor predictions and their average\")\n",
    "\n",
    "plt.show()"
   ]
  },
  {
   "cell_type": "code",
   "execution_count": 226,
   "metadata": {},
   "outputs": [
    {
     "data": {
      "text/plain": [
       "['models/voting_regressor']"
      ]
     },
     "execution_count": 226,
     "metadata": {},
     "output_type": "execute_result"
    }
   ],
   "source": [
    "from joblib import dump, load\n",
    "\n",
    "dump(support, 'models/svm')\n",
    "dump(er, 'models/voting_regressor')"
   ]
  }
 ],
 "metadata": {
  "kernelspec": {
   "display_name": ".venv",
   "language": "python",
   "name": "python3"
  },
  "language_info": {
   "codemirror_mode": {
    "name": "ipython",
    "version": 3
   },
   "file_extension": ".py",
   "mimetype": "text/x-python",
   "name": "python",
   "nbconvert_exporter": "python",
   "pygments_lexer": "ipython3",
   "version": "3.11.5"
  }
 },
 "nbformat": 4,
 "nbformat_minor": 2
}
