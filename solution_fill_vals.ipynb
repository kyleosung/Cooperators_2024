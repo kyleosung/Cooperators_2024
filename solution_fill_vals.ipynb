{
 "cells": [
  {
   "cell_type": "code",
   "execution_count": 1,
   "metadata": {},
   "outputs": [],
   "source": [
    "%%capture\n",
    "#### Load Libraries (without cell output)\n",
    "\n",
    "import autograd.numpy as np # import autograd wrapped numpy\n",
    "import pandas as pd\n",
    "import matplotlib.pyplot as plt\n",
    "\n",
    "import seaborn as sns\n",
    "import sklearn\n",
    "from sklearn.tree import DecisionTreeRegressor, DecisionTreeClassifier\n",
    "from sklearn.model_selection import train_test_split\n",
    "from sklearn import neighbors, metrics\n",
    "from sklearn.preprocessing import scale\n",
    "\n",
    "import statsmodels.api as sm\n",
    "from statsmodels.genmod.generalized_linear_model import GLM\n",
    "from statsmodels.genmod.families import Gamma"
   ]
  },
  {
   "cell_type": "code",
   "execution_count": 2,
   "metadata": {},
   "outputs": [
    {
     "name": "stdout",
     "output_type": "stream",
     "text": [
      "1187.758451280604\n",
      "(14173, 24)\n"
     ]
    }
   ],
   "source": [
    "claims = pd.read_csv(\"./Qualification_Package/Claims_Years_1_to_3.csv\")\n",
    "print(claims['claim_amount'].mean())\n",
    "\n",
    "print(claims.shape)"
   ]
  },
  {
   "cell_type": "code",
   "execution_count": 3,
   "metadata": {},
   "outputs": [
    {
     "data": {
      "text/plain": [
       "id_policy                  object\n",
       "year                        int64\n",
       "pol_no_claims_discount    float64\n",
       "pol_duration                int64\n",
       "pol_pay_freq               object\n",
       "pol_payd                   object\n",
       "pol_usage                  object\n",
       "drv_sex1                   object\n",
       "drv_age1                    int64\n",
       "drv_age_lic1                int64\n",
       "drv_drv2                   object\n",
       "drv_sex2                   object\n",
       "drv_age2                  float64\n",
       "drv_age_lic2              float64\n",
       "vh_make_model              object\n",
       "vh_age                      int64\n",
       "vh_fuel                    object\n",
       "vh_type                    object\n",
       "vh_speed                  float64\n",
       "vh_value                  float64\n",
       "vh_weight                 float64\n",
       "population                  int64\n",
       "town_surface_area         float64\n",
       "claim_amount              float64\n",
       "dtype: object"
      ]
     },
     "execution_count": 3,
     "metadata": {},
     "output_type": "execute_result"
    }
   ],
   "source": [
    "claims.dtypes"
   ]
  },
  {
   "cell_type": "code",
   "execution_count": null,
   "metadata": {},
   "outputs": [],
   "source": [
    "categorical = claims.select_dtypes(['object', 'int64'])\n",
    "continuous = claims.select_dtypes(['float64'])"
   ]
  }
 ],
 "metadata": {
  "kernelspec": {
   "display_name": ".venv",
   "language": "python",
   "name": "python3"
  },
  "language_info": {
   "codemirror_mode": {
    "name": "ipython",
    "version": 3
   },
   "file_extension": ".py",
   "mimetype": "text/x-python",
   "name": "python",
   "nbconvert_exporter": "python",
   "pygments_lexer": "ipython3",
   "version": "3.11.5"
  }
 },
 "nbformat": 4,
 "nbformat_minor": 2
}
