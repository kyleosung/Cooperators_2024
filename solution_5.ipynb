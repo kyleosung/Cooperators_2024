{
 "cells": [
  {
   "cell_type": "code",
   "execution_count": 239,
   "metadata": {},
   "outputs": [],
   "source": [
    "%%capture\n",
    "#### Load Libraries (without cell output)\n",
    "\n",
    "import autograd.numpy as np # import autograd wrapped numpy\n",
    "import pandas as pd\n",
    "import matplotlib.pyplot as plt\n",
    "\n",
    "import seaborn as sns\n",
    "import sklearn\n",
    "from sklearn.tree import DecisionTreeRegressor, DecisionTreeClassifier\n",
    "from sklearn.model_selection import train_test_split\n",
    "from sklearn import neighbors, metrics\n",
    "from sklearn.preprocessing import scale\n",
    "\n",
    "from sklearn.linear_model import LinearRegression\n",
    "from sklearn.tree import DecisionTreeRegressor\n",
    "from sklearn.ensemble import VotingRegressor\n",
    "from sklearn.neighbors import KNeighborsRegressor\n",
    "from sklearn import svm\n",
    "\n",
    "from sklearn.impute import SimpleImputer"
   ]
  },
  {
   "cell_type": "code",
   "execution_count": 240,
   "metadata": {},
   "outputs": [],
   "source": [
    "def RMSE(x, y):\n",
    "    MSE = ((y - x) ** 2).mean()\n",
    "    return np.sqrt(MSE)\n",
    "\n",
    "claims = pd.read_csv(\"./Qualification_Package/Claims_Years_1_to_3.csv\")"
   ]
  },
  {
   "cell_type": "code",
   "execution_count": 241,
   "metadata": {},
   "outputs": [],
   "source": [
    "def preprocess_xy(dataframe):\n",
    "    claims = dataframe.copy(deep=True)\n",
    "    claims['pol_pay_freq'] = claims['pol_pay_freq'].replace( {'Biannual': 2, 'Yearly': 1, 'Monthly': 12, 'Quarterly': 4} )\n",
    "    claims['pol_payd'] = claims['pol_payd'].replace( {'No': 0, 'Yes': 1} )\n",
    "    claims['drv_sex1'] = claims['drv_sex1'].replace( {'M': 1, 'F': 0} )\n",
    "    claims['vh_type'] = claims['vh_type'].replace( {'Tourism': 1, 'Commercial': 0} )\n",
    "    claims['drv_drv2'] = claims['drv_drv2'].replace( {'No': 0, 'Yes': 1} )\n",
    "\n",
    "    claims['vh_make_model'] = claims['vh_make_model'].apply(hash)\n",
    "\n",
    "    objects = claims.select_dtypes(['object'])\n",
    "    categorical = claims.select_dtypes(['int64'])\n",
    "    continuous = claims.select_dtypes(['float64'])\n",
    "\n",
    "    objects_filled = SimpleImputer(missing_values=np.nan, strategy='most_frequent').fit_transform(objects)\n",
    "    categorical_filled = SimpleImputer(missing_values=np.nan, strategy='median').fit_transform(categorical)\n",
    "    continuous_filled = SimpleImputer(missing_values=np.nan, strategy='mean').fit_transform(continuous)\n",
    "\n",
    "    objects_filled = pd.DataFrame(objects_filled, columns=objects.columns.to_list())\n",
    "    categorical_filled = pd.DataFrame(categorical_filled, columns=categorical.columns.to_list())\n",
    "    continuous_filled = pd.DataFrame(continuous_filled, columns=continuous.columns.to_list())\n",
    "    \n",
    "    design_matrix = pd.get_dummies(objects_filled, columns=['pol_usage', 'drv_sex2', 'vh_fuel'], dtype=int)\n",
    "    objects_design = design_matrix.drop(columns=['id_policy'])\n",
    "\n",
    "    df = pd.concat([objects_design, categorical_filled, continuous_filled], axis = 1)\n",
    "\n",
    "    x = df.iloc[:,:-1]\n",
    "    y = df.iloc[:,-1]\n",
    "\n",
    "    x_train, x_test, y_train, y_test = train_test_split(\n",
    "        x,\n",
    "        y, \n",
    "        train_size = 0.8,\n",
    "        test_size = 0.2, # train is 75%, test is 25% \n",
    "        random_state = 0, # stratify = y,\n",
    "    )\n",
    "    return x_train, x_test, y_train, y_test"
   ]
  },
  {
   "cell_type": "code",
   "execution_count": 242,
   "metadata": {},
   "outputs": [],
   "source": [
    "def preprocess_x(dataframe):\n",
    "    claims = dataframe.copy(deep=True)\n",
    "    claims['pol_pay_freq'] = claims['pol_pay_freq'].replace( {'Biannual': 2, 'Yearly': 1, 'Monthly': 12, 'Quarterly': 4} )\n",
    "    claims['pol_payd'] = claims['pol_payd'].replace( {'No': 0, 'Yes': 1} )\n",
    "    claims['drv_sex1'] = claims['drv_sex1'].replace( {'M': 1, 'F': 0} )\n",
    "    claims['vh_type'] = claims['vh_type'].replace( {'Tourism': 1, 'Commercial': 0} )\n",
    "    claims['drv_drv2'] = claims['drv_drv2'].replace( {'No': 0, 'Yes': 1} )\n",
    "    \n",
    "    claims['vh_make_model'] = claims['vh_make_model'].apply(hash)\n",
    "\n",
    "    objects = claims.select_dtypes(['object'])\n",
    "    categorical = claims.select_dtypes(['int64'])\n",
    "    continuous = claims.select_dtypes(['float64'])\n",
    "\n",
    "    objects_filled = SimpleImputer(missing_values=np.nan, strategy='most_frequent').fit_transform(objects)\n",
    "    categorical_filled = SimpleImputer(missing_values=np.nan, strategy='median').fit_transform(categorical)\n",
    "    continuous_filled = SimpleImputer(missing_values=np.nan, strategy='mean').fit_transform(continuous)\n",
    "\n",
    "    objects_filled = pd.DataFrame(objects_filled, columns=objects.columns.to_list())\n",
    "    categorical_filled = pd.DataFrame(categorical_filled, columns=categorical.columns.to_list())\n",
    "    continuous_filled = pd.DataFrame(continuous_filled, columns=continuous.columns.to_list())\n",
    "\n",
    "    design_matrix = pd.get_dummies(objects_filled, columns=['pol_usage', 'drv_sex2', 'vh_fuel'], dtype=int)\n",
    "    objects_design = design_matrix.drop(columns=['id_policy'])\n",
    "\n",
    "    categorical_filled = categorical_filled.drop(columns=['Unnamed: 0'])\n",
    "\n",
    "    df = pd.concat([objects_design, categorical_filled, continuous_filled], axis = 1)\n",
    "\n",
    "    return df"
   ]
  },
  {
   "cell_type": "code",
   "execution_count": 243,
   "metadata": {},
   "outputs": [
    {
     "name": "stderr",
     "output_type": "stream",
     "text": [
      "C:\\Users\\kyle\\AppData\\Local\\Temp\\ipykernel_15320\\1315890266.py:3: FutureWarning: Downcasting behavior in `replace` is deprecated and will be removed in a future version. To retain the old behavior, explicitly call `result.infer_objects(copy=False)`. To opt-in to the future behavior, set `pd.set_option('future.no_silent_downcasting', True)`\n",
      "  claims['pol_pay_freq'] = claims['pol_pay_freq'].replace( {'Biannual': 2, 'Yearly': 1, 'Monthly': 12, 'Quarterly': 4} )\n",
      "C:\\Users\\kyle\\AppData\\Local\\Temp\\ipykernel_15320\\1315890266.py:4: FutureWarning: Downcasting behavior in `replace` is deprecated and will be removed in a future version. To retain the old behavior, explicitly call `result.infer_objects(copy=False)`. To opt-in to the future behavior, set `pd.set_option('future.no_silent_downcasting', True)`\n",
      "  claims['pol_payd'] = claims['pol_payd'].replace( {'No': 0, 'Yes': 1} )\n",
      "C:\\Users\\kyle\\AppData\\Local\\Temp\\ipykernel_15320\\1315890266.py:5: FutureWarning: Downcasting behavior in `replace` is deprecated and will be removed in a future version. To retain the old behavior, explicitly call `result.infer_objects(copy=False)`. To opt-in to the future behavior, set `pd.set_option('future.no_silent_downcasting', True)`\n",
      "  claims['drv_sex1'] = claims['drv_sex1'].replace( {'M': 1, 'F': 0} )\n",
      "C:\\Users\\kyle\\AppData\\Local\\Temp\\ipykernel_15320\\1315890266.py:6: FutureWarning: Downcasting behavior in `replace` is deprecated and will be removed in a future version. To retain the old behavior, explicitly call `result.infer_objects(copy=False)`. To opt-in to the future behavior, set `pd.set_option('future.no_silent_downcasting', True)`\n",
      "  claims['vh_type'] = claims['vh_type'].replace( {'Tourism': 1, 'Commercial': 0} )\n",
      "C:\\Users\\kyle\\AppData\\Local\\Temp\\ipykernel_15320\\1315890266.py:7: FutureWarning: Downcasting behavior in `replace` is deprecated and will be removed in a future version. To retain the old behavior, explicitly call `result.infer_objects(copy=False)`. To opt-in to the future behavior, set `pd.set_option('future.no_silent_downcasting', True)`\n",
      "  claims['drv_drv2'] = claims['drv_drv2'].replace( {'No': 0, 'Yes': 1} )\n"
     ]
    }
   ],
   "source": [
    "x_train, x_test, y_train, y_test = preprocess_xy(claims)"
   ]
  },
  {
   "cell_type": "code",
   "execution_count": 244,
   "metadata": {},
   "outputs": [
    {
     "data": {
      "text/plain": [
       "Index(['pol_usage_AllTrips', 'pol_usage_Professional', 'pol_usage_Retired',\n",
       "       'pol_usage_WorkPrivate', 'drv_sex2_0', 'drv_sex2_F', 'drv_sex2_M',\n",
       "       'vh_fuel_Diesel', 'vh_fuel_Gasoline', 'vh_fuel_Hybrid', 'year',\n",
       "       'pol_duration', 'pol_pay_freq', 'pol_payd', 'drv_sex1', 'drv_age1',\n",
       "       'drv_age_lic1', 'drv_drv2', 'vh_make_model', 'vh_age', 'vh_type',\n",
       "       'population', 'pol_no_claims_discount', 'drv_age2', 'drv_age_lic2',\n",
       "       'vh_speed', 'vh_value', 'vh_weight', 'town_surface_area'],\n",
       "      dtype='object')"
      ]
     },
     "execution_count": 244,
     "metadata": {},
     "output_type": "execute_result"
    }
   ],
   "source": [
    "x_train.columns"
   ]
  },
  {
   "cell_type": "code",
   "execution_count": 245,
   "metadata": {},
   "outputs": [
    {
     "name": "stdout",
     "output_type": "stream",
     "text": [
      "1375.8664419158904\n"
     ]
    }
   ],
   "source": [
    "er = VotingRegressor([('kn', KNeighborsRegressor(n_neighbors=30)), ('sv', svm.SVR())])\n",
    "er.fit(x_train, y_train)\n",
    "y_pred = er.predict(x_test)\n",
    "print(RMSE(y_pred, y_test))"
   ]
  },
  {
   "cell_type": "code",
   "execution_count": 246,
   "metadata": {},
   "outputs": [],
   "source": [
    "def evaluate(claims, model):\n",
    "    x_train, x_test, y_train, y_test = preprocess_xy(claims)\n",
    "    model.fit(x_train, y_train)\n",
    "    y_pred = model.predict(x_test)\n",
    "    return np.sqrt(metrics.mean_squared_error(y_test, y_pred))"
   ]
  },
  {
   "cell_type": "code",
   "execution_count": 247,
   "metadata": {},
   "outputs": [
    {
     "name": "stderr",
     "output_type": "stream",
     "text": [
      "C:\\Users\\kyle\\AppData\\Local\\Temp\\ipykernel_15320\\1315890266.py:3: FutureWarning: Downcasting behavior in `replace` is deprecated and will be removed in a future version. To retain the old behavior, explicitly call `result.infer_objects(copy=False)`. To opt-in to the future behavior, set `pd.set_option('future.no_silent_downcasting', True)`\n",
      "  claims['pol_pay_freq'] = claims['pol_pay_freq'].replace( {'Biannual': 2, 'Yearly': 1, 'Monthly': 12, 'Quarterly': 4} )\n",
      "C:\\Users\\kyle\\AppData\\Local\\Temp\\ipykernel_15320\\1315890266.py:4: FutureWarning: Downcasting behavior in `replace` is deprecated and will be removed in a future version. To retain the old behavior, explicitly call `result.infer_objects(copy=False)`. To opt-in to the future behavior, set `pd.set_option('future.no_silent_downcasting', True)`\n",
      "  claims['pol_payd'] = claims['pol_payd'].replace( {'No': 0, 'Yes': 1} )\n",
      "C:\\Users\\kyle\\AppData\\Local\\Temp\\ipykernel_15320\\1315890266.py:5: FutureWarning: Downcasting behavior in `replace` is deprecated and will be removed in a future version. To retain the old behavior, explicitly call `result.infer_objects(copy=False)`. To opt-in to the future behavior, set `pd.set_option('future.no_silent_downcasting', True)`\n",
      "  claims['drv_sex1'] = claims['drv_sex1'].replace( {'M': 1, 'F': 0} )\n",
      "C:\\Users\\kyle\\AppData\\Local\\Temp\\ipykernel_15320\\1315890266.py:6: FutureWarning: Downcasting behavior in `replace` is deprecated and will be removed in a future version. To retain the old behavior, explicitly call `result.infer_objects(copy=False)`. To opt-in to the future behavior, set `pd.set_option('future.no_silent_downcasting', True)`\n",
      "  claims['vh_type'] = claims['vh_type'].replace( {'Tourism': 1, 'Commercial': 0} )\n",
      "C:\\Users\\kyle\\AppData\\Local\\Temp\\ipykernel_15320\\1315890266.py:7: FutureWarning: Downcasting behavior in `replace` is deprecated and will be removed in a future version. To retain the old behavior, explicitly call `result.infer_objects(copy=False)`. To opt-in to the future behavior, set `pd.set_option('future.no_silent_downcasting', True)`\n",
      "  claims['drv_drv2'] = claims['drv_drv2'].replace( {'No': 0, 'Yes': 1} )\n"
     ]
    },
    {
     "name": "stdout",
     "output_type": "stream",
     "text": [
      "1375.8664419158904\n"
     ]
    }
   ],
   "source": [
    "print(evaluate(claims, er))"
   ]
  },
  {
   "cell_type": "code",
   "execution_count": 248,
   "metadata": {},
   "outputs": [],
   "source": [
    "def predict(x, model):\n",
    "    x_new = preprocess_x(x)\n",
    "    return model.predict(x_new)"
   ]
  },
  {
   "cell_type": "code",
   "execution_count": 249,
   "metadata": {},
   "outputs": [],
   "source": [
    "data = pd.read_csv(\"./Qualification_Package/Submission_Data.csv\")"
   ]
  },
  {
   "cell_type": "code",
   "execution_count": 250,
   "metadata": {},
   "outputs": [
    {
     "name": "stderr",
     "output_type": "stream",
     "text": [
      "C:\\Users\\kyle\\AppData\\Local\\Temp\\ipykernel_15320\\1464371727.py:3: FutureWarning: Downcasting behavior in `replace` is deprecated and will be removed in a future version. To retain the old behavior, explicitly call `result.infer_objects(copy=False)`. To opt-in to the future behavior, set `pd.set_option('future.no_silent_downcasting', True)`\n",
      "  claims['pol_pay_freq'] = claims['pol_pay_freq'].replace( {'Biannual': 2, 'Yearly': 1, 'Monthly': 12, 'Quarterly': 4} )\n",
      "C:\\Users\\kyle\\AppData\\Local\\Temp\\ipykernel_15320\\1464371727.py:4: FutureWarning: Downcasting behavior in `replace` is deprecated and will be removed in a future version. To retain the old behavior, explicitly call `result.infer_objects(copy=False)`. To opt-in to the future behavior, set `pd.set_option('future.no_silent_downcasting', True)`\n",
      "  claims['pol_payd'] = claims['pol_payd'].replace( {'No': 0, 'Yes': 1} )\n",
      "C:\\Users\\kyle\\AppData\\Local\\Temp\\ipykernel_15320\\1464371727.py:5: FutureWarning: Downcasting behavior in `replace` is deprecated and will be removed in a future version. To retain the old behavior, explicitly call `result.infer_objects(copy=False)`. To opt-in to the future behavior, set `pd.set_option('future.no_silent_downcasting', True)`\n",
      "  claims['drv_sex1'] = claims['drv_sex1'].replace( {'M': 1, 'F': 0} )\n",
      "C:\\Users\\kyle\\AppData\\Local\\Temp\\ipykernel_15320\\1464371727.py:6: FutureWarning: Downcasting behavior in `replace` is deprecated and will be removed in a future version. To retain the old behavior, explicitly call `result.infer_objects(copy=False)`. To opt-in to the future behavior, set `pd.set_option('future.no_silent_downcasting', True)`\n",
      "  claims['vh_type'] = claims['vh_type'].replace( {'Tourism': 1, 'Commercial': 0} )\n",
      "C:\\Users\\kyle\\AppData\\Local\\Temp\\ipykernel_15320\\1464371727.py:7: FutureWarning: Downcasting behavior in `replace` is deprecated and will be removed in a future version. To retain the old behavior, explicitly call `result.infer_objects(copy=False)`. To opt-in to the future behavior, set `pd.set_option('future.no_silent_downcasting', True)`\n",
      "  claims['drv_drv2'] = claims['drv_drv2'].replace( {'No': 0, 'Yes': 1} )\n"
     ]
    }
   ],
   "source": [
    "data_processed = preprocess_x(data)"
   ]
  },
  {
   "cell_type": "code",
   "execution_count": 251,
   "metadata": {},
   "outputs": [
    {
     "data": {
      "text/plain": [
       "Index(['pol_usage_AllTrips', 'pol_usage_Professional', 'pol_usage_Retired',\n",
       "       'pol_usage_WorkPrivate', 'drv_sex2_0', 'drv_sex2_F', 'drv_sex2_M',\n",
       "       'vh_fuel_Diesel', 'vh_fuel_Gasoline', 'vh_fuel_Hybrid', 'year',\n",
       "       'pol_duration', 'pol_pay_freq', 'pol_payd', 'drv_sex1', 'drv_age1',\n",
       "       'drv_age_lic1', 'drv_drv2', 'vh_make_model', 'vh_age', 'vh_type',\n",
       "       'population', 'pol_no_claims_discount', 'drv_age2', 'drv_age_lic2',\n",
       "       'vh_speed', 'vh_value', 'vh_weight', 'town_surface_area'],\n",
       "      dtype='object')"
      ]
     },
     "execution_count": 251,
     "metadata": {},
     "output_type": "execute_result"
    }
   ],
   "source": [
    "data_processed.columns"
   ]
  },
  {
   "cell_type": "code",
   "execution_count": 252,
   "metadata": {},
   "outputs": [
    {
     "name": "stdout",
     "output_type": "stream",
     "text": [
      "(11338, 29)\n",
      "(4140, 29)\n"
     ]
    }
   ],
   "source": [
    "print(x_train.shape)\n",
    "print(data_processed.shape)"
   ]
  },
  {
   "cell_type": "code",
   "execution_count": 253,
   "metadata": {},
   "outputs": [
    {
     "name": "stderr",
     "output_type": "stream",
     "text": [
      "C:\\Users\\kyle\\AppData\\Local\\Temp\\ipykernel_15320\\1464371727.py:3: FutureWarning: Downcasting behavior in `replace` is deprecated and will be removed in a future version. To retain the old behavior, explicitly call `result.infer_objects(copy=False)`. To opt-in to the future behavior, set `pd.set_option('future.no_silent_downcasting', True)`\n",
      "  claims['pol_pay_freq'] = claims['pol_pay_freq'].replace( {'Biannual': 2, 'Yearly': 1, 'Monthly': 12, 'Quarterly': 4} )\n",
      "C:\\Users\\kyle\\AppData\\Local\\Temp\\ipykernel_15320\\1464371727.py:4: FutureWarning: Downcasting behavior in `replace` is deprecated and will be removed in a future version. To retain the old behavior, explicitly call `result.infer_objects(copy=False)`. To opt-in to the future behavior, set `pd.set_option('future.no_silent_downcasting', True)`\n",
      "  claims['pol_payd'] = claims['pol_payd'].replace( {'No': 0, 'Yes': 1} )\n",
      "C:\\Users\\kyle\\AppData\\Local\\Temp\\ipykernel_15320\\1464371727.py:5: FutureWarning: Downcasting behavior in `replace` is deprecated and will be removed in a future version. To retain the old behavior, explicitly call `result.infer_objects(copy=False)`. To opt-in to the future behavior, set `pd.set_option('future.no_silent_downcasting', True)`\n",
      "  claims['drv_sex1'] = claims['drv_sex1'].replace( {'M': 1, 'F': 0} )\n",
      "C:\\Users\\kyle\\AppData\\Local\\Temp\\ipykernel_15320\\1464371727.py:6: FutureWarning: Downcasting behavior in `replace` is deprecated and will be removed in a future version. To retain the old behavior, explicitly call `result.infer_objects(copy=False)`. To opt-in to the future behavior, set `pd.set_option('future.no_silent_downcasting', True)`\n",
      "  claims['vh_type'] = claims['vh_type'].replace( {'Tourism': 1, 'Commercial': 0} )\n",
      "C:\\Users\\kyle\\AppData\\Local\\Temp\\ipykernel_15320\\1464371727.py:7: FutureWarning: Downcasting behavior in `replace` is deprecated and will be removed in a future version. To retain the old behavior, explicitly call `result.infer_objects(copy=False)`. To opt-in to the future behavior, set `pd.set_option('future.no_silent_downcasting', True)`\n",
      "  claims['drv_drv2'] = claims['drv_drv2'].replace( {'No': 0, 'Yes': 1} )\n"
     ]
    }
   ],
   "source": [
    "\n",
    "x_new = preprocess_x(data)\n",
    "\n",
    "predictions = er.predict(x_new)"
   ]
  },
  {
   "cell_type": "code",
   "execution_count": 255,
   "metadata": {},
   "outputs": [
    {
     "name": "stdout",
     "output_type": "stream",
     "text": [
      "[ 922.08324747 1043.15745529 1136.35801878 ... 1068.82161979  879.04482817\n",
      " 1352.95161341]\n",
      "(4140,)\n"
     ]
    }
   ],
   "source": [
    "print(predictions)\n",
    "print(predictions.shape)"
   ]
  }
 ],
 "metadata": {
  "kernelspec": {
   "display_name": ".venv",
   "language": "python",
   "name": "python3"
  },
  "language_info": {
   "codemirror_mode": {
    "name": "ipython",
    "version": 3
   },
   "file_extension": ".py",
   "mimetype": "text/x-python",
   "name": "python",
   "nbconvert_exporter": "python",
   "pygments_lexer": "ipython3",
   "version": "3.11.5"
  }
 },
 "nbformat": 4,
 "nbformat_minor": 2
}
